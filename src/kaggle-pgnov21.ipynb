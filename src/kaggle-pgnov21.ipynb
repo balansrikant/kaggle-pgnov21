{
 "cells": [
  {
   "cell_type": "markdown",
   "metadata": {},
   "source": [
    "Submissions are evaluated on area under the ROC curve between the predicted probability and the observed target.\n",
    "\n",
    "Submission File\n",
    "For each id in the test set, you must predict a probability for the target variable. The file should contain a header and have the following format:\n",
    "\n",
    "https://www.kaggle.com/c/tabular-playground-series-nov-2021/overview"
   ]
  },
  {
   "cell_type": "code",
   "execution_count": 1,
   "metadata": {},
   "outputs": [
    {
     "name": "stdout",
     "output_type": "stream",
     "text": [
      "\n",
      "     active environment : kaggle-pgnov21\n",
      "    active env location : C:\\ProgramData\\Anaconda3\\envs\\kaggle-pgnov21\n",
      "            shell level : 2\n",
      "       user config file : C:\\Users\\globetrekker\\.condarc\n",
      " populated config files : C:\\Users\\globetrekker\\.condarc\n",
      "          conda version : 4.10.3\n",
      "    conda-build version : 3.21.4\n",
      "         python version : 3.8.8.final.0\n",
      "       virtual packages : __win=0=0\n",
      "                          __archspec=1=x86_64\n",
      "       base environment : C:\\ProgramData\\Anaconda3  (writable)\n",
      "      conda av data dir : C:\\ProgramData\\Anaconda3\\etc\\conda\n",
      "  conda av metadata url : None\n",
      "           channel URLs : https://repo.anaconda.com/pkgs/main/win-64\n",
      "                          https://repo.anaconda.com/pkgs/main/noarch\n",
      "                          https://repo.anaconda.com/pkgs/r/win-64\n",
      "                          https://repo.anaconda.com/pkgs/r/noarch\n",
      "                          https://repo.anaconda.com/pkgs/msys2/win-64\n",
      "                          https://repo.anaconda.com/pkgs/msys2/noarch\n",
      "          package cache : C:\\ProgramData\\Anaconda3\\pkgs\n",
      "                          C:\\Users\\globetrekker\\.conda\\pkgs\n",
      "                          C:\\Users\\globetrekker\\AppData\\Local\\conda\\conda\\pkgs\n",
      "       envs directories : C:\\ProgramData\\Anaconda3\\envs\n",
      "                          C:\\Users\\globetrekker\\.conda\\envs\n",
      "                          C:\\Users\\globetrekker\\AppData\\Local\\conda\\conda\\envs\n",
      "               platform : win-64\n",
      "             user-agent : conda/4.10.3 requests/2.25.1 CPython/3.8.8 Windows/10 Windows/10.0.19041\n",
      "          administrator : False\n",
      "             netrc file : None\n",
      "           offline mode : False\n",
      "\n"
     ]
    }
   ],
   "source": [
    "!conda info"
   ]
  },
  {
   "cell_type": "code",
   "execution_count": 2,
   "metadata": {
    "_cell_guid": "c04be2df-43b3-4c66-ae0e-c17ff6bf7a45",
    "_uuid": "e1abf160-08a9-4188-a996-16dcee5395ec",
    "execution": {
     "iopub.execute_input": "2021-11-12T19:01:01.273778Z",
     "iopub.status.busy": "2021-11-12T19:01:01.272805Z",
     "iopub.status.idle": "2021-11-12T19:01:01.309507Z",
     "shell.execute_reply": "2021-11-12T19:01:01.308884Z",
     "shell.execute_reply.started": "2021-11-12T19:01:01.273661Z"
    },
    "jupyter": {
     "outputs_hidden": false
    }
   },
   "outputs": [],
   "source": [
    "import os\n",
    "for dirname, _, filenames in os.walk('/kaggle/input'):\n",
    "    for filename in filenames:\n",
    "        print(os.path.join(dirname, filename))"
   ]
  },
  {
   "cell_type": "markdown",
   "metadata": {},
   "source": [
    "<a id=\"0\"></a>\n",
    "# Table of contents \n",
    "* [Imports](#imports)\n",
    "* [Useful functions](#useful-functions)\n",
    "* [Plot distributions](#plot-distributions)\n",
    "* [Get baseline scores](#get-baseline)\n",
    "* [Optimize models](#optimize-models)\n",
    "* [Drop features](#drop-features)\n",
    "* [Feature importances](#feature-importances)\n",
    "* [KMeans clustering](#kmeans)\n",
    "* [Stacking - manual](#stacking-manual)\n",
    "* [Stacking - auto](#stacking-auto)\n",
    "* [Optuna](#optuna)\n",
    "* [Final](#final)"
   ]
  },
  {
   "cell_type": "markdown",
   "metadata": {},
   "source": [
    "<a id=\"0\"></a>\n",
    "## Imports\n",
    "[Go back to top](#imports)"
   ]
  },
  {
   "cell_type": "code",
   "execution_count": 3,
   "metadata": {
    "execution": {
     "iopub.execute_input": "2021-11-12T19:01:01.311465Z",
     "iopub.status.busy": "2021-11-12T19:01:01.311078Z",
     "iopub.status.idle": "2021-11-12T19:01:03.981131Z",
     "shell.execute_reply": "2021-11-12T19:01:03.980277Z",
     "shell.execute_reply.started": "2021-11-12T19:01:01.311436Z"
    }
   },
   "outputs": [],
   "source": [
    "import time, gc, copy\n",
    "import numpy as np # linear algebra\n",
    "import pandas as pd # data processing, CSV file I/O (e.g. pd.read_csv)\n",
    "import warnings\n",
    "\n",
    "from lightgbm import LGBMClassifier\n",
    "from sklearn.linear_model import LogisticRegression\n",
    "from sklearn.neighbors import KNeighborsClassifier\n",
    "from sklearn.svm import LinearSVC\n",
    "from sklearn.naive_bayes import GaussianNB\n",
    "\n",
    "from sklearn.model_selection import train_test_split, RandomizedSearchCV\n",
    "from sklearn.model_selection import StratifiedKFold, RepeatedStratifiedKFold\n",
    "from sklearn.model_selection import cross_val_score, cross_val_predict\n",
    "\n",
    "from sklearn.calibration import CalibratedClassifierCV\n",
    "from sklearn.feature_selection import SelectKBest, f_classif\n",
    "from sklearn.metrics import roc_auc_score\n",
    "from sklearn.cluster import KMeans\n",
    "from sklearn.preprocessing import StandardScaler\n",
    "import matplotlib.pyplot as plt\n",
    "import optuna\n",
    "\n",
    "pd.options.mode.chained_assignment = None  # default='warn'\n",
    "%config Completer.use_jedi = False\n",
    "warnings.simplefilter(action='ignore', category=FutureWarning)"
   ]
  },
  {
   "cell_type": "code",
   "execution_count": 4,
   "metadata": {
    "execution": {
     "iopub.execute_input": "2021-11-12T19:01:03.982595Z",
     "iopub.status.busy": "2021-11-12T19:01:03.982360Z",
     "iopub.status.idle": "2021-11-12T19:01:36.399994Z",
     "shell.execute_reply": "2021-11-12T19:01:36.399324Z",
     "shell.execute_reply.started": "2021-11-12T19:01:03.982567Z"
    }
   },
   "outputs": [],
   "source": [
    "def get_datasets(path: str, scale: bool, debug: bool):\n",
    "    \"\"\"Import datasets from path. Expect csvs called train.csv and test.csv\n",
    "\n",
    "    Arguments:\n",
    "    :path - path containing csvs\n",
    "    :scale - run standard scaler\n",
    "    :debug - run in debug mode\n",
    "    \n",
    "    Returns:\n",
    "    :X - dataframe (train) minus target\n",
    "    :y - series (target values for train)\n",
    "    :df_test - dataframe (test) \n",
    "    \"\"\"\n",
    "    \n",
    "    if debug:\n",
    "        df_train = pd.read_csv(path + 'train.csv', nrows=1000)\n",
    "        df_test = pd.read_csv(path + 'test.csv', nrows=1000)\n",
    "    else:\n",
    "        df_train = pd.read_csv(path + 'train.csv')\n",
    "        df_test = pd.read_csv(path + 'test.csv')\n",
    "        \n",
    "    ids = df_test.id\n",
    "    df_train.drop('id', axis=1, inplace=True)\n",
    "    df_test.drop('id', axis=1, inplace=True)\n",
    "\n",
    "    original_features = df_test.columns\n",
    "\n",
    "    X = df_train[original_features]\n",
    "    y = df_train['target']\n",
    "    \n",
    "    if scale:\n",
    "        std_scaler = StandardScaler()\n",
    "        X_norm = pd.DataFrame(std_scaler.fit_transform(X))\n",
    "        X_norm.columns = original_features\n",
    "        df_test_norm = pd.DataFrame(std_scaler.transform(df_test))\n",
    "        df_test_norm.columns = original_features\n",
    "    else:\n",
    "        X_norm = X\n",
    "        df_test_norm = df_test\n",
    "    \n",
    "    return X_norm, y, df_test_norm, ids"
   ]
  },
  {
   "cell_type": "code",
   "execution_count": 5,
   "metadata": {},
   "outputs": [],
   "source": [
    "def get_models():\n",
    "    \"\"\"Return list of models for initial analysis\n",
    "    \n",
    "    Returns:\n",
    "    :models - list of dicts(name, model)\n",
    "    \"\"\"\n",
    "    models = [\n",
    "        {'name': 'lr', 'model': LogisticRegression(random_state=5)},\n",
    "        {'name': 'lsvc', 'model': LinearSVC(dual=False, random_state=5)},\n",
    "        {'name': 'lgbm', 'model': LGBMClassifier(random_state=5)},\n",
    "        {'name': 'bayes', 'model': GaussianNB()},\n",
    "    ]\n",
    "    return models"
   ]
  },
  {
   "cell_type": "code",
   "execution_count": 6,
   "metadata": {},
   "outputs": [],
   "source": [
    "def evaluate_model(\n",
    "    model, \n",
    "    X: pd.DataFrame, \n",
    "    y: pd.Series) -> list:\n",
    "    \"\"\"Return list of scores for a model\n",
    "\n",
    "    Arguments:\n",
    "    :model - model to be evaluated\n",
    "    :X - dataframe (train) minus target\n",
    "    :y - series (target values for train)\n",
    "    \n",
    "    Returns:\n",
    "    scores - list of scores for model\n",
    "    \"\"\"\n",
    "    \n",
    "    cv = RepeatedStratifiedKFold(n_splits=10, n_repeats=3, random_state=1)\n",
    "    scores = cross_val_score(model, X, y, scoring='roc_auc', cv=cv, n_jobs=-1, error_score='raise')\n",
    "    \n",
    "    return scores"
   ]
  },
  {
   "cell_type": "code",
   "execution_count": 7,
   "metadata": {},
   "outputs": [],
   "source": [
    "def evaluate_model_val_set(\n",
    "    model, \n",
    "    X_train: pd.DataFrame, \n",
    "    y_train: pd.Series,\n",
    "    X_val: pd.DataFrame,\n",
    "    y_val: pd.Series) -> float:\n",
    "    \"\"\"Return scores for a model on validation set\n",
    "\n",
    "    Arguments:\n",
    "    :model - model to be evaluated\n",
    "    :X_train - training dataframe minus target\n",
    "    :y_train - training series (target values for training set)\n",
    "    :X_val - validation dataframe minus target\n",
    "    :y_val - validation series (target values for validation set)\n",
    "    \n",
    "    Returns:\n",
    "    score - score for model\n",
    "    \"\"\"\n",
    "    if model.__class__.__name__ == 'LinearSVC':\n",
    "        clf = CalibratedClassifierCV(base_estimator=model, cv=5)\n",
    "    else:\n",
    "        clf = model\n",
    "    clf.fit(X_train, y_train)\n",
    "    preds = clf.predict_proba(X_val)[:,1]\n",
    "    \n",
    "    score = roc_auc_score(y_val, preds)\n",
    "    \n",
    "    return score"
   ]
  },
  {
   "cell_type": "code",
   "execution_count": 8,
   "metadata": {},
   "outputs": [],
   "source": [
    "def get_feature_importances(\n",
    "    X_in: pd.DataFrame, \n",
    "    y_in: pd.Series, \n",
    "    model_type: str, \n",
    "    k: int) -> pd.DataFrame:\n",
    "    \"\"\"Return feature importances of features as to the target prediction\n",
    "\n",
    "    Arguments:\n",
    "    :X_in - dataframe (train) minus target\n",
    "    :y_in - series (target values for train)\n",
    "    :model_type - 'regression' or 'classification'\n",
    "    :k - number of folds \n",
    "    \n",
    "    Returns:\n",
    "    :featureScores - dataframe with abs correlation value sorted in asc\n",
    "    \"\"\"\n",
    "    if model_type == 'classification':\n",
    "        bestfeatures = SelectKBest(score_func=f_classif, k=k)\n",
    "    else:\n",
    "        bestfeatures = SelectKBest(score_func=f_regression, k=k)\n",
    "    \n",
    "    fit = bestfeatures.fit(X_in, y_in)\n",
    "\n",
    "    dfscores = pd.DataFrame(fit.scores_)\n",
    "    dfcolumns = pd.DataFrame(X_in.columns)\n",
    "\n",
    "    # Concat two dataframes for better visualization \n",
    "    featureScores = pd.concat([dfcolumns,dfscores],axis=1)\n",
    "    featureScores.columns = ['Specs','Score'] \n",
    "    featureScores['Abs_score'] = abs(featureScores['Score'])\n",
    "    featureScores.sort_values(by='Score', axis=0, ascending=True, inplace=True)\n",
    "    featureScores.reset_index(drop=True, inplace=True)\n",
    "    \n",
    "    return featureScores"
   ]
  },
  {
   "cell_type": "code",
   "execution_count": 9,
   "metadata": {},
   "outputs": [],
   "source": [
    "def get_kmeans_labels(\n",
    "    X_in: pd.DataFrame, \n",
    "    features: list,\n",
    "    n_clusters: int) -> list:\n",
    "    \"\"\"Return kmeans labels for a dataframe\n",
    "\n",
    "    Arguments:\n",
    "    :X_in - dataframe (train) minus target\n",
    "    :features - list of important features\n",
    "    :n_clusters - number of kmeans clusters\n",
    "    \n",
    "    Returns:\n",
    "    X_temp - dataframe (train) minus target plus kmeans labels\n",
    "    \"\"\"\n",
    "    X_temp = copy.deepcopy(X_in)\n",
    "    kmeans = KMeans(n_clusters=n_clusters, random_state=3)\n",
    "    kmeans.fit(X_temp[features])\n",
    "    X_temp['cluster'] = kmeans.predict(X_temp[features])\n",
    "    \n",
    "    return X_temp"
   ]
  },
  {
   "cell_type": "code",
   "execution_count": 10,
   "metadata": {},
   "outputs": [],
   "source": [
    "def get_kmeans_dist_ratios(\n",
    "    X_in: pd.DataFrame, \n",
    "    X_val_in: pd.DataFrame,\n",
    "    X_test_in: pd.DataFrame,\n",
    "    features: list,\n",
    "    n_clusters: int) -> list:\n",
    "    \"\"\"Return kmeans labels for a dataframe\n",
    "\n",
    "    Arguments:\n",
    "    :X_in - dataframe (train) minus target\n",
    "    :X_val_in - dataframe (val) minus target\n",
    "    :X_test_in - dataframe (test) minus target\n",
    "    :features - list of important features\n",
    "    :n_clusters - number of kmeans clusters\n",
    "    \n",
    "    Returns:\n",
    "    :X_temp - dataframe (train) minus target plus kmeans dist ratios\n",
    "    :X_temp_val - dataframe (val) minus target plus kmeans dist ratios\n",
    "    :X_temp_test - dataframe (test) minus target plus kmeans dist ratios\n",
    "    \"\"\"\n",
    "    kmeans = KMeans(n_clusters=n_clusters, random_state=3)\n",
    "    X_temp = copy.deepcopy(X_in)\n",
    "    X_temp_val = copy.deepcopy(X_val_in)\n",
    "    X_temp_test = copy.deepcopy(X_test_in)\n",
    "    \n",
    "    kmeans.fit(X_temp[features])\n",
    "    cluster_cols = [f\"cluster{i+1}\" for i in range(n_clusters)]\n",
    "\n",
    "    cluster_distances = kmeans.transform(X_temp[features])\n",
    "    cluster_distances_val = kmeans.transform(X_temp_val[features])\n",
    "    cluster_distances_test = kmeans.transform(X_temp_test[features])\n",
    "    \n",
    "    X_temp_cluster_distances = pd.DataFrame(cluster_distances, columns=cluster_cols, index=X_temp.index)\n",
    "    X_temp_val_cluster_distances = pd.DataFrame(cluster_distances_val, columns=cluster_cols, index=X_temp_val.index)\n",
    "    X_temp_test_cluster_distances = pd.DataFrame(cluster_distances_test, columns=cluster_cols, index=X_temp_test.index)\n",
    "\n",
    "    new_cols = []\n",
    "    for i in cluster_cols:\n",
    "        for j in cluster_cols:\n",
    "            if i != j:\n",
    "                new_col_name = i + '_' + j\n",
    "                X_temp_cluster_distances[new_col_name] = X_temp_cluster_distances[i] / X_temp_cluster_distances[j]\n",
    "                X_temp_val_cluster_distances[new_col_name] = X_temp_val_cluster_distances[i] / X_temp_val_cluster_distances[j]\n",
    "                X_temp_test_cluster_distances[new_col_name] = X_temp_test_cluster_distances[i] / X_temp_test_cluster_distances[j]\n",
    "                new_cols.append(new_col_name)\n",
    "            \n",
    "    X_temp = X_temp.join(X_temp_cluster_distances[new_cols])\n",
    "    X_temp_val = X_temp_val.join(X_temp_val_cluster_distances[new_cols])\n",
    "    X_temp_test = X_temp_test.join(X_temp_test_cluster_distances[new_cols])\n",
    "    \n",
    "    return X_temp, X_temp_val, X_temp_test"
   ]
  },
  {
   "cell_type": "code",
   "execution_count": 11,
   "metadata": {},
   "outputs": [],
   "source": [
    "def generate_meta_features_model(model, X_in, y_in, cv):\n",
    "    \"\"\"Generate meta features for single base classifier model, to be used later for stacking\n",
    "\n",
    "    Arguments:\n",
    "    :model - model to evaluate\n",
    "    :X_in - dataframe with features minus target\n",
    "    :y_in - target series\n",
    "    :cv - cross-validation iterator \n",
    "    \"\"\"\n",
    "    \n",
    "    # Initialize\n",
    "    n_classes = len(np.unique(y_in)) # Assuming that training data contains all classes\n",
    "    meta_features = np.zeros((X_in.shape[0], n_classes)) \n",
    "    n_splits = cv.get_n_splits(X_in, y_in)\n",
    "    \n",
    "    # Loop over folds\n",
    "    print(\"Starting hold out prediction with {} splits for {}.\".format(n_splits, model.__class__.__name__))\n",
    "    for train_idx, hold_out_idx in cv.split(X_in, y_in): \n",
    "        \n",
    "        # Split data\n",
    "        X_in_train = X_in.iloc[train_idx]    \n",
    "        y_in_train = y_in.iloc[train_idx]\n",
    "        X_in_hold_out = X_in.iloc[hold_out_idx]\n",
    "\n",
    "        # Fit estimator to K-1 parts and predict on hold out part\n",
    "        est = copy.deepcopy(model)\n",
    "        est.fit(X_in_train, y_in_train)\n",
    "        y_in_hold_out_pred = est.predict_proba(X_in_hold_out)\n",
    "        \n",
    "        # Fill in meta features\n",
    "        meta_features[hold_out_idx] = y_in_hold_out_pred\n",
    "\n",
    "    return meta_features"
   ]
  },
  {
   "cell_type": "code",
   "execution_count": 12,
   "metadata": {},
   "outputs": [],
   "source": [
    "def get_stack_df(models, X_input, X_input_km, y_in):\n",
    "    # Loop over classifier to produce meta features\n",
    "    cv = StratifiedKFold(n_splits=5, shuffle=True, random_state=5)\n",
    "    meta_train = []\n",
    "    meta_test = []\n",
    "    for model in models:\n",
    "        name = model['name']\n",
    "        if name == 'lr':\n",
    "            X_in = X_input\n",
    "        elif name == 'lsvc':\n",
    "            X_in = X_input\n",
    "        else:\n",
    "            X_in = X_input_km\n",
    "        \n",
    "        # Create hold out predictions for a classifier\n",
    "        if model['model'].__class__.__name__ == 'LinearSVC':\n",
    "            clf = CalibratedClassifierCV(base_estimator=model['model'], cv=5)\n",
    "        else:\n",
    "            clf = model['model']\n",
    "        meta_train_model = generate_meta_features_model(clf, X_in, y_in, cv)\n",
    "\n",
    "        # Remove redundant column - 0th column = 1-first column in a two class dataset \n",
    "        meta_train_model = np.delete(meta_train_model, 0, axis=1).ravel()\n",
    "        print(pd.DataFrame(meta_train_model).head())\n",
    "\n",
    "        # Gather meta training data\n",
    "        meta_train.append(meta_train_model)\n",
    "\n",
    "    meta_train = np.array(meta_train).T \n",
    "    df_meta_train = pd.DataFrame(meta_train)\n",
    "\n",
    "    # Optional (Add original features to meta)\n",
    "    df_meta_train = pd.DataFrame(np.concatenate((df_meta_train, X_in), axis=1))\n",
    "    \n",
    "    return df_meta_train"
   ]
  },
  {
   "cell_type": "code",
   "execution_count": 15,
   "metadata": {},
   "outputs": [],
   "source": [
    "def get_stack_df_val(models, stack_model, X_input, X_input_km, y_in, X_test_input, X_test_km_input, features, ids):\n",
    "    \n",
    "    meta_test = []\n",
    "    for model in models:\n",
    "        name = model['name']\n",
    "    if name == 'lr':\n",
    "        X_in = X_input\n",
    "        X_test_in = X_test_input\n",
    "    elif name == 'lsvc':\n",
    "        X_in = X_input\n",
    "        X_test_in = X_test_input\n",
    "    else:\n",
    "        X_in = X_input_km\n",
    "        X_test_in = X_test_km_input\n",
    "\n",
    "    clf.fit(X_in, y_in)\n",
    "    meta_test_model = clf.predict_proba(X_test_in)\n",
    "\n",
    "    # Remove redundant column - 0th column = 1-first column in a two class dataset \n",
    "    meta_test_model = np.delete(meta_test_model, 0, axis=1).ravel()\n",
    "\n",
    "    # Gather meta training data\n",
    "    meta_test.append(meta_test_model)\n",
    "\n",
    "    meta_test = np.array(meta_test).T \n",
    "    df_meta_test = pd.DataFrame(meta_test)\n",
    "\n",
    "    # Optional (Add original features to meta)\n",
    "    df_meta_test = pd.DataFrame(np.concatenate((df_meta_test, X_test_in), axis=1))\n",
    "    \n",
    "    return df_meta_test"
   ]
  },
  {
   "cell_type": "code",
   "execution_count": 16,
   "metadata": {},
   "outputs": [],
   "source": [
    "def objective_logreg(trial, X_in, y_in, X_val_in, y_val_in):\n",
    "    \"\"\"Optimize logistic regression model using optuna\"\"\"\n",
    "    \n",
    "    solver = trial.suggest_categorical('solver', ['liblinear', 'newton-cg', 'lbfgs', 'newton-cg', 'sag', 'saga'])\n",
    "    C = trial.suggest_float(\"C\", 0.01, 2.0)\n",
    "    max_iter = trial.suggest_int(\"max_iter\", 100, 10000, step=100)\n",
    "    \n",
    "    penalty = 'l2'\n",
    "    \n",
    "    model = LogisticRegression(C=C, max_iter=max_iter, solver=solver, penalty=penalty)\n",
    "    model.fit(X_in, y_in)\n",
    "    preds = model.predict_proba(X_val_in)[:,1]\n",
    "    score = roc_auc_score(y_val_in, preds)\n",
    "    \n",
    "    return score"
   ]
  },
  {
   "cell_type": "code",
   "execution_count": 17,
   "metadata": {},
   "outputs": [],
   "source": [
    "def objective_linearSVC(trial, X_in, y_in, X_val_in, y_val_in):\n",
    "    \"\"\"Optimize linear SVC model using optuna\"\"\"\n",
    "    \n",
    "    C = trial.suggest_float(\"C\", 0.01, 2.0)\n",
    "    max_iter = trial.suggest_int(\"max_iter\", 1000, 10000, step=1000)\n",
    "    \n",
    "    model = LinearSVC(C=C\n",
    "                      , max_iter=max_iter\n",
    "                      , dual=False\n",
    "                      , random_state=5)\n",
    "    clf = CalibratedClassifierCV(base_estimator=model, cv=5)\n",
    "    clf.fit(X_in, y_in)\n",
    "    \n",
    "    preds = clf.predict_proba(X_val_in)[:,1]\n",
    "    score = roc_auc_score(y_val_in, preds)\n",
    "    \n",
    "    return score"
   ]
  },
  {
   "cell_type": "code",
   "execution_count": 18,
   "metadata": {},
   "outputs": [],
   "source": [
    "# get data\n",
    "X, y, df_test, ids = get_datasets('../input/tabular-playground-series-nov-2021/', True, False)\n",
    "original_features = list(df_test.columns)\n",
    "X_train, X_val, y_train, y_val = train_test_split(X, y, test_size=0.2, train_size=0.8)\n",
    "\n",
    "# get models\n",
    "models = get_models()"
   ]
  },
  {
   "cell_type": "code",
   "execution_count": 19,
   "metadata": {},
   "outputs": [
    {
     "name": "stdout",
     "output_type": "stream",
     "text": [
      ">lr 0.749 (0.002)\n",
      ">lsvc 0.749 (0.002)\n",
      ">lgbm 0.732 (0.002)\n",
      ">bayes 0.636 (0.003)\n"
     ]
    },
    {
     "data": {
      "image/png": "[encoded data removed]",
      "text/plain": [
       "<Figure size 432x288 with 1 Axes>"
      ]
     },
     "metadata": {
      "needs_background": "light"
     },
     "output_type": "display_data"
    }
   ],
   "source": [
    "# evaluate baseline cross val scores of the models\n",
    "results, names = list(), list()\n",
    "for model in models:\n",
    "    name = model['name']\n",
    "    scores = evaluate_model(model['model'], X_train, y_train)\n",
    "    model['init_scores'] = np.mean(scores)\n",
    "    results.append(scores)\n",
    "    names.append(name)\n",
    "    print('>%s %.3f (%.3f)' % (name, np.mean(scores), np.std(scores)))\n",
    "\n",
    "# plot model performance for comparison\n",
    "plt.boxplot(results, labels=names, showmeans=True)\n",
    "plt.title('Baseline Scores')\n",
    "plt.show()"
   ]
  },
  {
   "cell_type": "code",
   "execution_count": 20,
   "metadata": {},
   "outputs": [
    {
     "data": {
      "image/png": "[encoded data removed]",
      "text/plain": [
       "<Figure size 432x288 with 1 Axes>"
      ]
     },
     "metadata": {
      "needs_background": "light"
     },
     "output_type": "display_data"
    }
   ],
   "source": [
    "# get feature importances\n",
    "featureScores = get_feature_importances(X_train, y_train, 'classification', 5)\n",
    "plt.bar(featureScores['Specs'], featureScores['Abs_score'])\n",
    "plt.title('Feature Importances')\n",
    "plt.show()"
   ]
  },
  {
   "cell_type": "code",
   "execution_count": 21,
   "metadata": {},
   "outputs": [
    {
     "name": "stdout",
     "output_type": "stream",
     "text": [
      ">lgbm 0.737 (0.002)\n",
      ">bayes 0.710 (0.002)\n"
     ]
    },
    {
     "data": {
      "image/png": "[encoded data removed]",
      "text/plain": [
       "<Figure size 432x288 with 1 Axes>"
      ]
     },
     "metadata": {
      "needs_background": "light"
     },
     "output_type": "display_data"
    }
   ],
   "source": [
    "# evaluate cross val scores for the models by adding kmeans cluster distance ratios\n",
    "results, names = list(), list()\n",
    "important_features = list(featureScores.sort_values(by='Abs_score', ascending=False).head(15)['Specs'])\n",
    "X_train_km, X_val_km, X_test_km = get_kmeans_dist_ratios(X_train, X_val, df_test, important_features, 10)\n",
    "for model in models:\n",
    "    name = model['name']\n",
    "    if name == 'lr':\n",
    "        pass\n",
    "    elif name == 'lsvc':\n",
    "        pass\n",
    "    else:\n",
    "        scores = evaluate_model(model['model'], X_train_km, y_train)\n",
    "        model['kmeans_dist_rat_scores'] = np.mean(scores)\n",
    "        results.append(scores)\n",
    "        names.append(name)\n",
    "        print('>%s %.3f (%.3f)' % (name, np.mean(scores), np.std(scores)))\n",
    "\n",
    "# plot model performance for comparison\n",
    "plt.boxplot(results, labels=names, showmeans=True)\n",
    "plt.title('KMeans Distance Ratio Scores')\n",
    "plt.show()"
   ]
  },
  {
   "cell_type": "code",
   "execution_count": 22,
   "metadata": {},
   "outputs": [
    {
     "name": "stdout",
     "output_type": "stream",
     "text": [
      ">lr 0.748\n",
      ">lsvc 0.748\n",
      ">lgbm 0.731\n",
      ">bayes 0.633\n"
     ]
    }
   ],
   "source": [
    "# evaluate baseline scores of the models on validation set\n",
    "for model in models:\n",
    "    name = model['name']\n",
    "    score = evaluate_model_val_set(model['model'], X_train, y_train, X_val, y_val)\n",
    "    model['init_scores_val'] = score\n",
    "    print('>%s %.3f' % (name, score))"
   ]
  },
  {
   "cell_type": "code",
   "execution_count": 23,
   "metadata": {},
   "outputs": [
    {
     "name": "stdout",
     "output_type": "stream",
     "text": [
      ">lgbm 0.735\n",
      ">bayes 0.710\n"
     ]
    }
   ],
   "source": [
    "# evaluate score on val set with kmeans dist ratios added\n",
    "important_features = list(featureScores.sort_values(by='Abs_score', ascending=False).head(15)['Specs'])\n",
    "X_train_km, X_val_km, X_test_km = get_kmeans_dist_ratios(X_train, X_val, df_test, important_features, 10)\n",
    "for model in models:\n",
    "    name = model['name']\n",
    "    if name == 'lr':\n",
    "        pass\n",
    "    elif name == 'lsvc':\n",
    "        pass\n",
    "    else:\n",
    "        score = evaluate_model_val_set(model['model'], X_train_km, y_train, X_val_km, y_val)\n",
    "        model['kmeans_dist_rat_scores_val'] = score\n",
    "        print('>%s %.3f' % (name, score))"
   ]
  },
  {
   "cell_type": "code",
   "execution_count": 60,
   "metadata": {
    "scrolled": true
   },
   "outputs": [
    {
     "name": "stdout",
     "output_type": "stream",
     "text": [
      "Finished loading model, total used 100 iterations\n",
      "Starting hold out prediction with 5 splits for LogisticRegression.\n",
      "          0\n",
      "0  0.229223\n",
      "1  0.695775\n",
      "2  0.568647\n",
      "3  0.722557\n",
      "4  0.645760\n",
      "Starting hold out prediction with 5 splits for CalibratedClassifierCV.\n",
      "          0\n",
      "0  0.231152\n",
      "1  0.695096\n",
      "2  0.567928\n",
      "3  0.722188\n",
      "4  0.643830\n",
      "Starting hold out prediction with 5 splits for GaussianNB.\n",
      "              0\n",
      "0  5.501525e-10\n",
      "1  9.953064e-01\n",
      "2  3.057126e-02\n",
      "3  9.999980e-01\n",
      "4  1.000000e+00\n",
      ">['lr_', 'lsvc_', 'bayes_'] 0.746 (0.002)\n"
     ]
    },
    {
     "data": {
      "image/png": "[encoded data removed]",
      "text/plain": [
       "<Figure size 432x288 with 1 Axes>"
      ]
     },
     "metadata": {
      "needs_background": "light"
     },
     "output_type": "display_data"
    }
   ],
   "source": [
    "# evaluate scores with stacking\n",
    "# get km enhanced df\n",
    "important_features = list(featureScores.sort_values(by='Abs_score', ascending=False).head(15)['Specs'])\n",
    "X_train_km, X_val_km, X_test_km = get_kmeans_dist_ratios(X_train, X_val, df_test, important_features, 10)\n",
    "stack_model = LogisticRegression(solver='sag', C=1.6213309780417264, max_iter=1800, random_state=10)\n",
    "\n",
    "# get meta df\n",
    "models_stack = copy.deepcopy(models)\n",
    "models_stack.pop(2)\n",
    "df_meta_train = get_stack_df(models_stack, X_train, X_train_km, y_train)\n",
    "\n",
    "# cross val scores from stacking\n",
    "results = list()\n",
    "name = [model['name'] +'_' for model in models_stack]\n",
    "scores = evaluate_model(stack_model, df_meta_train, y_train)\n",
    "score = np.mean(scores)\n",
    "results.append(scores)\n",
    "print('>%s %.3f (%.3f)' % (name, np.mean(scores), np.std(scores)))\n",
    "\n",
    "# plot stack model performance for comparison\n",
    "plt.boxplot(results, labels=['stack - ' + stack_model.__class__.__name__], showmeans=True)\n",
    "plt.title('Stacking Scores')\n",
    "plt.show()"
   ]
  },
  {
   "cell_type": "code",
   "execution_count": 61,
   "metadata": {
    "collapsed": true
   },
   "outputs": [
    {
     "name": "stdout",
     "output_type": "stream",
     "text": [
      "Finished loading model, total used 100 iterations\n",
      "Starting hold out prediction with 5 splits for LogisticRegression.\n",
      "          0\n",
      "0  0.229223\n",
      "1  0.695775\n",
      "2  0.568647\n",
      "3  0.722557\n",
      "4  0.645760\n",
      "Starting hold out prediction with 5 splits for CalibratedClassifierCV.\n",
      "          0\n",
      "0  0.231152\n",
      "1  0.695096\n",
      "2  0.567928\n",
      "3  0.722188\n",
      "4  0.643830\n",
      "Starting hold out prediction with 5 splits for LGBMClassifier.\n",
      "Finished loading model, total used 100 iterations\n",
      "Finished loading model, total used 100 iterations\n",
      "Finished loading model, total used 100 iterations\n",
      "Finished loading model, total used 100 iterations\n",
      "Finished loading model, total used 100 iterations\n",
      "          0\n",
      "0  0.260928\n",
      "1  0.698825\n",
      "2  0.456899\n",
      "3  0.741388\n",
      "4  0.609898\n",
      ">['lr_', 'lsvc_', 'lgbm_'] 0.747 (0.002)\n"
     ]
    },
    {
     "data": {
      "image/png": "[encoded data removed]",
      "text/plain": [
       "<Figure size 432x288 with 1 Axes>"
      ]
     },
     "metadata": {
      "needs_background": "light"
     },
     "output_type": "display_data"
    }
   ],
   "source": [
    "stack_model = LogisticRegression(solver='sag', C=1.6213309780417264, max_iter=1800, random_state=10)\n",
    "\n",
    "# get meta df\n",
    "models_stack = copy.deepcopy(models)\n",
    "models_stack.pop(3)\n",
    "df_meta_train = get_stack_df(models_stack, X_train, X_train_km, y_train)\n",
    "\n",
    "# cross val scores from stacking\n",
    "results = list()\n",
    "name = [model['name'] +'_' for model in models_stack]\n",
    "scores = evaluate_model(stack_model, df_meta_train, y_train)\n",
    "score = np.mean(scores)\n",
    "results.append(scores)\n",
    "print('>%s %.3f (%.3f)' % (name, np.mean(scores), np.std(scores)))\n",
    "\n",
    "# plot stack model performance for comparison\n",
    "plt.boxplot(results, labels=['stack - ' + stack_model.__class__.__name__], showmeans=True)\n",
    "plt.title('Stacking Scores')\n",
    "plt.show()"
   ]
  },
  {
   "cell_type": "code",
   "execution_count": 62,
   "metadata": {
    "collapsed": true
   },
   "outputs": [
    {
     "name": "stdout",
     "output_type": "stream",
     "text": [
      "Finished loading model, total used 100 iterations\n",
      "Starting hold out prediction with 5 splits for LogisticRegression.\n",
      "          0\n",
      "0  0.229223\n",
      "1  0.695775\n",
      "2  0.568647\n",
      "3  0.722557\n",
      "4  0.645760\n",
      "Starting hold out prediction with 5 splits for LGBMClassifier.\n",
      "Finished loading model, total used 100 iterations\n",
      "Finished loading model, total used 100 iterations\n",
      "Finished loading model, total used 100 iterations\n",
      "Finished loading model, total used 100 iterations\n",
      "Finished loading model, total used 100 iterations\n",
      "          0\n",
      "0  0.260928\n",
      "1  0.698825\n",
      "2  0.456899\n",
      "3  0.741388\n",
      "4  0.609898\n",
      "Starting hold out prediction with 5 splits for GaussianNB.\n",
      "              0\n",
      "0  5.501525e-10\n",
      "1  9.953064e-01\n",
      "2  3.057126e-02\n",
      "3  9.999980e-01\n",
      "4  1.000000e+00\n",
      ">['lr_', 'lgbm_', 'bayes_'] 0.746 (0.002)\n"
     ]
    },
    {
     "data": {
      "image/png": "[encoded data removed]",
      "text/plain": [
       "<Figure size 432x288 with 1 Axes>"
      ]
     },
     "metadata": {
      "needs_background": "light"
     },
     "output_type": "display_data"
    }
   ],
   "source": [
    "stack_model = LogisticRegression(solver='sag', C=1.6213309780417264, max_iter=1800, random_state=10)\n",
    "\n",
    "# get meta df\n",
    "models_stack = copy.deepcopy(models)\n",
    "models_stack.pop(1)\n",
    "df_meta_train = get_stack_df(models_stack, X_train, X_train_km, y_train)\n",
    "\n",
    "# cross val scores from stacking\n",
    "results = list()\n",
    "name = [model['name'] +'_' for model in models_stack]\n",
    "scores = evaluate_model(stack_model, df_meta_train, y_train)\n",
    "score = np.mean(scores)\n",
    "results.append(scores)\n",
    "print('>%s %.3f (%.3f)' % (name, np.mean(scores), np.std(scores)))\n",
    "\n",
    "# plot stack model performance for comparison\n",
    "plt.boxplot(results, labels=['stack - ' + stack_model.__class__.__name__], showmeans=True)\n",
    "plt.title('Stacking Scores')\n",
    "plt.show()"
   ]
  },
  {
   "cell_type": "code",
   "execution_count": 63,
   "metadata": {
    "collapsed": true
   },
   "outputs": [
    {
     "name": "stdout",
     "output_type": "stream",
     "text": [
      "Finished loading model, total used 100 iterations\n",
      "Starting hold out prediction with 5 splits for CalibratedClassifierCV.\n",
      "          0\n",
      "0  0.231152\n",
      "1  0.695096\n",
      "2  0.567928\n",
      "3  0.722188\n",
      "4  0.643830\n",
      "Starting hold out prediction with 5 splits for LGBMClassifier.\n",
      "Finished loading model, total used 100 iterations\n",
      "Finished loading model, total used 100 iterations\n",
      "Finished loading model, total used 100 iterations\n",
      "Finished loading model, total used 100 iterations\n",
      "Finished loading model, total used 100 iterations\n",
      "          0\n",
      "0  0.260928\n",
      "1  0.698825\n",
      "2  0.456899\n",
      "3  0.741388\n",
      "4  0.609898\n",
      "Starting hold out prediction with 5 splits for GaussianNB.\n",
      "              0\n",
      "0  5.501525e-10\n",
      "1  9.953064e-01\n",
      "2  3.057126e-02\n",
      "3  9.999980e-01\n",
      "4  1.000000e+00\n",
      ">['lsvc_', 'lgbm_', 'bayes_'] 0.746 (0.002)\n"
     ]
    },
    {
     "data": {
      "image/png": "[encoded data removed]",
      "text/plain": [
       "<Figure size 432x288 with 1 Axes>"
      ]
     },
     "metadata": {
      "needs_background": "light"
     },
     "output_type": "display_data"
    }
   ],
   "source": [
    "stack_model = LogisticRegression(solver='sag', C=1.6213309780417264, max_iter=1800, random_state=10)\n",
    "\n",
    "# get meta df\n",
    "models_stack = copy.deepcopy(models)\n",
    "models_stack.pop(0)\n",
    "df_meta_train = get_stack_df(models_stack, X_train, X_train_km, y_train)\n",
    "\n",
    "# cross val scores from stacking\n",
    "results = list()\n",
    "name = [model['name'] +'_' for model in models_stack]\n",
    "scores = evaluate_model(stack_model, df_meta_train, y_train)\n",
    "score = np.mean(scores)\n",
    "results.append(scores)\n",
    "print('>%s %.3f (%.3f)' % (name, np.mean(scores), np.std(scores)))\n",
    "\n",
    "# plot stack model performance for comparison\n",
    "plt.boxplot(results, labels=['stack - ' + stack_model.__class__.__name__], showmeans=True)\n",
    "plt.title('Stacking Scores')\n",
    "plt.show()"
   ]
  },
  {
   "cell_type": "code",
   "execution_count": 69,
   "metadata": {},
   "outputs": [
    {
     "name": "stderr",
     "output_type": "stream",
     "text": [
      "\u001b[32m[I 2021-11-28 17:50:54,746]\u001b[0m A new study created in memory with name: Logistic regression\u001b[0m\n",
      "C:\\ProgramData\\Anaconda3\\envs\\kaggle-pgnov21\\lib\\site-packages\\scipy\\optimize\\linesearch.py:437: LineSearchWarning: Rounding errors prevent the line search from converging\n",
      "  warn(msg, LineSearchWarning)\n",
      "C:\\ProgramData\\Anaconda3\\envs\\kaggle-pgnov21\\lib\\site-packages\\scipy\\optimize\\linesearch.py:327: LineSearchWarning: The line search algorithm did not converge\n",
      "  warn('The line search algorithm did not converge', LineSearchWarning)\n",
      "C:\\ProgramData\\Anaconda3\\envs\\kaggle-pgnov21\\lib\\site-packages\\sklearn\\utils\\optimize.py:203: UserWarning: Line Search failed\n",
      "  warnings.warn(\"Line Search failed\")\n",
      "\u001b[32m[I 2021-11-28 17:51:01,172]\u001b[0m Trial 0 finished with value: 0.7509228749607932 and parameters: {'solver': 'newton-cg', 'C': 1.813027073372824, 'max_iter': 2100}. Best is trial 0 with value: 0.7509228749607932.\u001b[0m\n",
      "C:\\ProgramData\\Anaconda3\\envs\\kaggle-pgnov21\\lib\\site-packages\\scipy\\optimize\\linesearch.py:327: LineSearchWarning: The line search algorithm did not converge\n",
      "  warn('The line search algorithm did not converge', LineSearchWarning)\n",
      "C:\\ProgramData\\Anaconda3\\envs\\kaggle-pgnov21\\lib\\site-packages\\sklearn\\utils\\optimize.py:203: UserWarning: Line Search failed\n",
      "  warnings.warn(\"Line Search failed\")\n",
      "\u001b[32m[I 2021-11-28 17:51:13,585]\u001b[0m Trial 1 finished with value: 0.7509228727379683 and parameters: {'solver': 'newton-cg', 'C': 1.1142658974823565, 'max_iter': 9500}. Best is trial 0 with value: 0.7509228749607932.\u001b[0m\n",
      "\u001b[32m[I 2021-11-28 17:51:19,358]\u001b[0m Trial 2 finished with value: 0.7509228710708497 and parameters: {'solver': 'newton-cg', 'C': 1.5274034347604613, 'max_iter': 2500}. Best is trial 0 with value: 0.7509228749607932.\u001b[0m\n",
      "\u001b[32m[I 2021-11-28 17:51:31,087]\u001b[0m Trial 3 finished with value: 0.750922869403731 and parameters: {'solver': 'sag', 'C': 1.6578618707484019, 'max_iter': 1800}. Best is trial 0 with value: 0.7509228749607932.\u001b[0m\n",
      "\u001b[32m[I 2021-11-28 17:51:33,818]\u001b[0m Trial 4 finished with value: 0.7509228844077993 and parameters: {'solver': 'liblinear', 'C': 0.6253330686085112, 'max_iter': 2700}. Best is trial 4 with value: 0.7509228844077993.\u001b[0m\n",
      "\u001b[32m[I 2021-11-28 17:51:36,572]\u001b[0m Trial 5 finished with value: 0.750922877183618 and parameters: {'solver': 'liblinear', 'C': 0.30640398175530076, 'max_iter': 1000}. Best is trial 4 with value: 0.7509228844077993.\u001b[0m\n",
      "C:\\ProgramData\\Anaconda3\\envs\\kaggle-pgnov21\\lib\\site-packages\\scipy\\optimize\\linesearch.py:437: LineSearchWarning: Rounding errors prevent the line search from converging\n",
      "  warn(msg, LineSearchWarning)\n",
      "C:\\ProgramData\\Anaconda3\\envs\\kaggle-pgnov21\\lib\\site-packages\\scipy\\optimize\\linesearch.py:327: LineSearchWarning: The line search algorithm did not converge\n",
      "  warn('The line search algorithm did not converge', LineSearchWarning)\n",
      "C:\\ProgramData\\Anaconda3\\envs\\kaggle-pgnov21\\lib\\site-packages\\sklearn\\utils\\optimize.py:203: UserWarning: Line Search failed\n",
      "  warnings.warn(\"Line Search failed\")\n",
      "\u001b[32m[I 2021-11-28 17:51:41,722]\u001b[0m Trial 6 finished with value: 0.7509228741272339 and parameters: {'solver': 'newton-cg', 'C': 1.3660000391827718, 'max_iter': 1100}. Best is trial 4 with value: 0.7509228844077993.\u001b[0m\n",
      "\u001b[32m[I 2021-11-28 17:51:53,603]\u001b[0m Trial 7 finished with value: 0.7509229627623785 and parameters: {'solver': 'sag', 'C': 0.6325366353172103, 'max_iter': 1500}. Best is trial 7 with value: 0.7509229627623785.\u001b[0m\n",
      "\u001b[32m[I 2021-11-28 17:51:59,129]\u001b[0m Trial 8 finished with value: 0.7509228730158215 and parameters: {'solver': 'newton-cg', 'C': 1.6920880044052435, 'max_iter': 4400}. Best is trial 7 with value: 0.7509229627623785.\u001b[0m\n",
      "\u001b[32m[I 2021-11-28 17:52:04,973]\u001b[0m Trial 9 finished with value: 0.7509228741272339 and parameters: {'solver': 'newton-cg', 'C': 1.0970625722715621, 'max_iter': 5300}. Best is trial 7 with value: 0.7509229627623785.\u001b[0m\n",
      "\u001b[32m[I 2021-11-28 17:52:05,879]\u001b[0m Trial 10 finished with value: 0.7509228749607932 and parameters: {'solver': 'lbfgs', 'C': 0.6105484048028186, 'max_iter': 6300}. Best is trial 7 with value: 0.7509229627623785.\u001b[0m\n",
      "\u001b[32m[I 2021-11-28 17:52:11,957]\u001b[0m Trial 11 finished with value: 0.750922871904409 and parameters: {'solver': 'newton-cg', 'C': 0.6267477016184336, 'max_iter': 3900}. Best is trial 7 with value: 0.7509229627623785.\u001b[0m\n",
      "\u001b[32m[I 2021-11-28 17:52:18,322]\u001b[0m Trial 12 finished with value: 0.7509230074967306 and parameters: {'solver': 'newton-cg', 'C': 0.023672809391721117, 'max_iter': 200}. Best is trial 12 with value: 0.7509230074967306.\u001b[0m\n",
      "\u001b[32m[I 2021-11-28 17:52:29,753]\u001b[0m Trial 13 finished with value: 0.7509229385891574 and parameters: {'solver': 'saga', 'C': 0.06398442364866924, 'max_iter': 200}. Best is trial 12 with value: 0.7509230074967306.\u001b[0m\n",
      "\u001b[32m[I 2021-11-28 17:52:43,363]\u001b[0m Trial 14 finished with value: 0.7509228538439563 and parameters: {'solver': 'sag', 'C': 0.024884056643301733, 'max_iter': 100}. Best is trial 12 with value: 0.7509230074967306.\u001b[0m\n",
      "\u001b[32m[I 2021-11-28 17:52:49,165]\u001b[0m Trial 15 finished with value: 0.7509228635688154 and parameters: {'solver': 'newton-cg', 'C': 0.33264552779332146, 'max_iter': 7200}. Best is trial 12 with value: 0.7509230074967306.\u001b[0m\n",
      "\u001b[32m[I 2021-11-28 17:52:55,123]\u001b[0m Trial 16 finished with value: 0.7509228785728838 and parameters: {'solver': 'newton-cg', 'C': 0.8808224555715167, 'max_iter': 3600}. Best is trial 12 with value: 0.7509230074967306.\u001b[0m\n",
      "\u001b[32m[I 2021-11-28 17:53:01,027]\u001b[0m Trial 17 finished with value: 0.7509228549553688 and parameters: {'solver': 'newton-cg', 'C': 0.3126328420583524, 'max_iter': 8900}. Best is trial 12 with value: 0.7509230074967306.\u001b[0m\n",
      "C:\\ProgramData\\Anaconda3\\envs\\kaggle-pgnov21\\lib\\site-packages\\scipy\\optimize\\linesearch.py:327: LineSearchWarning: The line search algorithm did not converge\n",
      "  warn('The line search algorithm did not converge', LineSearchWarning)\n",
      "C:\\ProgramData\\Anaconda3\\envs\\kaggle-pgnov21\\lib\\site-packages\\sklearn\\utils\\optimize.py:203: UserWarning: Line Search failed\n",
      "  warnings.warn(\"Line Search failed\")\n",
      "\u001b[32m[I 2021-11-28 17:53:16,525]\u001b[0m Trial 18 finished with value: 0.7509228794064432 and parameters: {'solver': 'newton-cg', 'C': 0.8958813633010143, 'max_iter': 3300}. Best is trial 12 with value: 0.7509230074967306.\u001b[0m\n",
      "C:\\ProgramData\\Anaconda3\\envs\\kaggle-pgnov21\\lib\\site-packages\\scipy\\optimize\\linesearch.py:437: LineSearchWarning: Rounding errors prevent the line search from converging\n",
      "  warn(msg, LineSearchWarning)\n",
      "C:\\ProgramData\\Anaconda3\\envs\\kaggle-pgnov21\\lib\\site-packages\\scipy\\optimize\\linesearch.py:327: LineSearchWarning: The line search algorithm did not converge\n",
      "  warn('The line search algorithm did not converge', LineSearchWarning)\n",
      "C:\\ProgramData\\Anaconda3\\envs\\kaggle-pgnov21\\lib\\site-packages\\sklearn\\utils\\optimize.py:203: UserWarning: Line Search failed\n",
      "  warnings.warn(\"Line Search failed\")\n",
      "\u001b[32m[I 2021-11-28 17:53:22,252]\u001b[0m Trial 19 finished with value: 0.7509228757943527 and parameters: {'solver': 'newton-cg', 'C': 0.4435253109368435, 'max_iter': 1000}. Best is trial 12 with value: 0.7509230074967306.\u001b[0m\n",
      "C:\\ProgramData\\Anaconda3\\envs\\kaggle-pgnov21\\lib\\site-packages\\scipy\\optimize\\linesearch.py:437: LineSearchWarning: Rounding errors prevent the line search from converging\n",
      "  warn(msg, LineSearchWarning)\n",
      "C:\\ProgramData\\Anaconda3\\envs\\kaggle-pgnov21\\lib\\site-packages\\scipy\\optimize\\linesearch.py:327: LineSearchWarning: The line search algorithm did not converge\n",
      "  warn('The line search algorithm did not converge', LineSearchWarning)\n",
      "C:\\ProgramData\\Anaconda3\\envs\\kaggle-pgnov21\\lib\\site-packages\\sklearn\\utils\\optimize.py:203: UserWarning: Line Search failed\n",
      "  warnings.warn(\"Line Search failed\")\n",
      "\u001b[32m[I 2021-11-28 17:53:27,857]\u001b[0m Trial 20 finished with value: 0.7509228752386463 and parameters: {'solver': 'newton-cg', 'C': 1.9835657001234535, 'max_iter': 5300}. Best is trial 12 with value: 0.7509230074967306.\u001b[0m\n",
      "\u001b[32m[I 2021-11-28 17:53:39,037]\u001b[0m Trial 21 finished with value: 0.750922843841244 and parameters: {'solver': 'saga', 'C': 0.07326186281502878, 'max_iter': 400}. Best is trial 12 with value: 0.7509230074967306.\u001b[0m\n",
      "C:\\ProgramData\\Anaconda3\\envs\\kaggle-pgnov21\\lib\\site-packages\\scipy\\optimize\\linesearch.py:327: LineSearchWarning: The line search algorithm did not converge\n",
      "  warn('The line search algorithm did not converge', LineSearchWarning)\n",
      "C:\\ProgramData\\Anaconda3\\envs\\kaggle-pgnov21\\lib\\site-packages\\sklearn\\utils\\optimize.py:203: UserWarning: Line Search failed\n",
      "  warnings.warn(\"Line Search failed\")\n",
      "\u001b[32m[I 2021-11-28 17:53:50,248]\u001b[0m Trial 22 finished with value: 0.750922867458759 and parameters: {'solver': 'newton-cg', 'C': 0.167847345912498, 'max_iter': 1300}. Best is trial 12 with value: 0.7509230074967306.\u001b[0m\n"
     ]
    },
    {
     "name": "stderr",
     "output_type": "stream",
     "text": [
      "\u001b[32m[I 2021-11-28 17:54:01,459]\u001b[0m Trial 23 finished with value: 0.7509228471754814 and parameters: {'solver': 'saga', 'C': 0.19998684312060375, 'max_iter': 100}. Best is trial 12 with value: 0.7509230074967306.\u001b[0m\n",
      "C:\\ProgramData\\Anaconda3\\envs\\kaggle-pgnov21\\lib\\site-packages\\scipy\\optimize\\linesearch.py:437: LineSearchWarning: Rounding errors prevent the line search from converging\n",
      "  warn(msg, LineSearchWarning)\n",
      "C:\\ProgramData\\Anaconda3\\envs\\kaggle-pgnov21\\lib\\site-packages\\scipy\\optimize\\linesearch.py:327: LineSearchWarning: The line search algorithm did not converge\n",
      "  warn('The line search algorithm did not converge', LineSearchWarning)\n",
      "C:\\ProgramData\\Anaconda3\\envs\\kaggle-pgnov21\\lib\\site-packages\\sklearn\\utils\\optimize.py:203: UserWarning: Line Search failed\n",
      "  warnings.warn(\"Line Search failed\")\n",
      "\u001b[32m[I 2021-11-28 17:54:07,065]\u001b[0m Trial 24 finished with value: 0.7509228741272339 and parameters: {'solver': 'newton-cg', 'C': 0.510662456428667, 'max_iter': 1500}. Best is trial 12 with value: 0.7509230074967306.\u001b[0m\n",
      "C:\\ProgramData\\Anaconda3\\envs\\kaggle-pgnov21\\lib\\site-packages\\scipy\\optimize\\linesearch.py:437: LineSearchWarning: Rounding errors prevent the line search from converging\n",
      "  warn(msg, LineSearchWarning)\n",
      "C:\\ProgramData\\Anaconda3\\envs\\kaggle-pgnov21\\lib\\site-packages\\scipy\\optimize\\linesearch.py:327: LineSearchWarning: The line search algorithm did not converge\n",
      "  warn('The line search algorithm did not converge', LineSearchWarning)\n",
      "C:\\ProgramData\\Anaconda3\\envs\\kaggle-pgnov21\\lib\\site-packages\\sklearn\\utils\\optimize.py:203: UserWarning: Line Search failed\n",
      "  warnings.warn(\"Line Search failed\")\n",
      "\u001b[32m[I 2021-11-28 17:54:12,767]\u001b[0m Trial 25 finished with value: 0.7509228777393244 and parameters: {'solver': 'newton-cg', 'C': 0.7853331498681584, 'max_iter': 2900}. Best is trial 12 with value: 0.7509230074967306.\u001b[0m\n",
      "C:\\ProgramData\\Anaconda3\\envs\\kaggle-pgnov21\\lib\\site-packages\\scipy\\optimize\\linesearch.py:327: LineSearchWarning: The line search algorithm did not converge\n",
      "  warn('The line search algorithm did not converge', LineSearchWarning)\n",
      "C:\\ProgramData\\Anaconda3\\envs\\kaggle-pgnov21\\lib\\site-packages\\sklearn\\utils\\optimize.py:203: UserWarning: Line Search failed\n",
      "  warnings.warn(\"Line Search failed\")\n",
      "\u001b[32m[I 2021-11-28 17:54:22,605]\u001b[0m Trial 26 finished with value: 0.7509228744050871 and parameters: {'solver': 'newton-cg', 'C': 0.1612274198440602, 'max_iter': 500}. Best is trial 12 with value: 0.7509230074967306.\u001b[0m\n",
      "\u001b[32m[I 2021-11-28 17:54:33,234]\u001b[0m Trial 27 finished with value: 0.7509228816292681 and parameters: {'solver': 'saga', 'C': 0.44901553485783274, 'max_iter': 2100}. Best is trial 12 with value: 0.7509230074967306.\u001b[0m\n",
      "\u001b[32m[I 2021-11-28 17:54:39,060]\u001b[0m Trial 28 finished with value: 0.7509229477583101 and parameters: {'solver': 'newton-cg', 'C': 0.031459038967654014, 'max_iter': 800}. Best is trial 12 with value: 0.7509230074967306.\u001b[0m\n",
      "C:\\ProgramData\\Anaconda3\\envs\\kaggle-pgnov21\\lib\\site-packages\\scipy\\optimize\\linesearch.py:437: LineSearchWarning: Rounding errors prevent the line search from converging\n",
      "  warn(msg, LineSearchWarning)\n",
      "C:\\ProgramData\\Anaconda3\\envs\\kaggle-pgnov21\\lib\\site-packages\\scipy\\optimize\\linesearch.py:327: LineSearchWarning: The line search algorithm did not converge\n",
      "  warn('The line search algorithm did not converge', LineSearchWarning)\n",
      "C:\\ProgramData\\Anaconda3\\envs\\kaggle-pgnov21\\lib\\site-packages\\sklearn\\utils\\optimize.py:203: UserWarning: Line Search failed\n",
      "  warnings.warn(\"Line Search failed\")\n",
      "\u001b[32m[I 2021-11-28 17:54:44,642]\u001b[0m Trial 29 finished with value: 0.7509228724601152 and parameters: {'solver': 'newton-cg', 'C': 1.2960501761948802, 'max_iter': 2000}. Best is trial 12 with value: 0.7509230074967306.\u001b[0m\n",
      "C:\\ProgramData\\Anaconda3\\envs\\kaggle-pgnov21\\lib\\site-packages\\scipy\\optimize\\linesearch.py:327: LineSearchWarning: The line search algorithm did not converge\n",
      "  warn('The line search algorithm did not converge', LineSearchWarning)\n",
      "C:\\ProgramData\\Anaconda3\\envs\\kaggle-pgnov21\\lib\\site-packages\\sklearn\\utils\\optimize.py:203: UserWarning: Line Search failed\n",
      "  warnings.warn(\"Line Search failed\")\n",
      "\u001b[32m[I 2021-11-28 17:54:59,957]\u001b[0m Trial 30 finished with value: 0.7509228774614713 and parameters: {'solver': 'newton-cg', 'C': 0.8036304212553508, 'max_iter': 7400}. Best is trial 12 with value: 0.7509230074967306.\u001b[0m\n",
      "\u001b[32m[I 2021-11-28 17:55:06,362]\u001b[0m Trial 31 finished with value: 0.750922923862942 and parameters: {'solver': 'newton-cg', 'C': 0.053856753100571156, 'max_iter': 800}. Best is trial 12 with value: 0.7509230074967306.\u001b[0m\n",
      "C:\\ProgramData\\Anaconda3\\envs\\kaggle-pgnov21\\lib\\site-packages\\scipy\\optimize\\linesearch.py:327: LineSearchWarning: The line search algorithm did not converge\n",
      "  warn('The line search algorithm did not converge', LineSearchWarning)\n",
      "C:\\ProgramData\\Anaconda3\\envs\\kaggle-pgnov21\\lib\\site-packages\\sklearn\\utils\\optimize.py:203: UserWarning: Line Search failed\n",
      "  warnings.warn(\"Line Search failed\")\n",
      "\u001b[32m[I 2021-11-28 17:55:31,435]\u001b[0m Trial 32 finished with value: 0.750922864680228 and parameters: {'solver': 'newton-cg', 'C': 0.2514344834566028, 'max_iter': 100}. Best is trial 12 with value: 0.7509230074967306.\u001b[0m\n",
      "\u001b[32m[I 2021-11-28 17:55:38,299]\u001b[0m Trial 33 finished with value: 0.7509229852684811 and parameters: {'solver': 'newton-cg', 'C': 0.01912805268215094, 'max_iter': 1700}. Best is trial 12 with value: 0.7509230074967306.\u001b[0m\n",
      "\u001b[32m[I 2021-11-28 17:55:44,868]\u001b[0m Trial 34 finished with value: 0.7509228699594371 and parameters: {'solver': 'newton-cg', 'C': 0.4040076398796691, 'max_iter': 2400}. Best is trial 12 with value: 0.7509230074967306.\u001b[0m\n",
      "\u001b[32m[I 2021-11-28 17:55:51,101]\u001b[0m Trial 35 finished with value: 0.7509228677366122 and parameters: {'solver': 'newton-cg', 'C': 0.2063998298937068, 'max_iter': 1800}. Best is trial 12 with value: 0.7509230074967306.\u001b[0m\n",
      "C:\\ProgramData\\Anaconda3\\envs\\kaggle-pgnov21\\lib\\site-packages\\scipy\\optimize\\linesearch.py:437: LineSearchWarning: Rounding errors prevent the line search from converging\n",
      "  warn(msg, LineSearchWarning)\n",
      "C:\\ProgramData\\Anaconda3\\envs\\kaggle-pgnov21\\lib\\site-packages\\scipy\\optimize\\linesearch.py:327: LineSearchWarning: The line search algorithm did not converge\n",
      "  warn('The line search algorithm did not converge', LineSearchWarning)\n",
      "C:\\ProgramData\\Anaconda3\\envs\\kaggle-pgnov21\\lib\\site-packages\\sklearn\\utils\\optimize.py:203: UserWarning: Line Search failed\n",
      "  warnings.warn(\"Line Search failed\")\n",
      "\u001b[32m[I 2021-11-28 17:55:57,325]\u001b[0m Trial 36 finished with value: 0.7509228746829402 and parameters: {'solver': 'newton-cg', 'C': 0.5575887699365046, 'max_iter': 3100}. Best is trial 12 with value: 0.7509230074967306.\u001b[0m\n",
      "C:\\ProgramData\\Anaconda3\\envs\\kaggle-pgnov21\\lib\\site-packages\\scipy\\optimize\\linesearch.py:327: LineSearchWarning: The line search algorithm did not converge\n",
      "  warn('The line search algorithm did not converge', LineSearchWarning)\n",
      "C:\\ProgramData\\Anaconda3\\envs\\kaggle-pgnov21\\lib\\site-packages\\sklearn\\utils\\optimize.py:203: UserWarning: Line Search failed\n",
      "  warnings.warn(\"Line Search failed\")\n",
      "\u001b[32m[I 2021-11-28 17:56:22,973]\u001b[0m Trial 37 finished with value: 0.7509228752386463 and parameters: {'solver': 'newton-cg', 'C': 0.15048133628221838, 'max_iter': 1500}. Best is trial 12 with value: 0.7509230074967306.\u001b[0m\n",
      "\u001b[32m[I 2021-11-28 17:56:39,502]\u001b[0m Trial 38 finished with value: 0.7509228844077993 and parameters: {'solver': 'sag', 'C': 0.3568025374336733, 'max_iter': 2400}. Best is trial 12 with value: 0.7509230074967306.\u001b[0m\n",
      "C:\\ProgramData\\Anaconda3\\envs\\kaggle-pgnov21\\lib\\site-packages\\scipy\\optimize\\linesearch.py:327: LineSearchWarning: The line search algorithm did not converge\n",
      "  warn('The line search algorithm did not converge', LineSearchWarning)\n",
      "C:\\ProgramData\\Anaconda3\\envs\\kaggle-pgnov21\\lib\\site-packages\\sklearn\\utils\\optimize.py:203: UserWarning: Line Search failed\n",
      "  warnings.warn(\"Line Search failed\")\n",
      "\u001b[32m[I 2021-11-28 17:56:52,889]\u001b[0m Trial 39 finished with value: 0.7509228719044089 and parameters: {'solver': 'newton-cg', 'C': 1.2400353291244308, 'max_iter': 4500}. Best is trial 12 with value: 0.7509230074967306.\u001b[0m\n"
     ]
    },
    {
     "name": "stdout",
     "output_type": "stream",
     "text": [
      "Number of finished trials: 40\n",
      "Best trial: {'solver': 'newton-cg', 'C': 0.023672809391721117, 'max_iter': 200}\n",
      "Best score: 0.7509230074967306\n"
     ]
    }
   ],
   "source": [
    "# optimize logistic regression\n",
    "study = optuna.create_study(direction='maximize', study_name=\"Logistic regression\")\n",
    "func = lambda trial: objective_logreg(trial, X_train, y_train,  X_val, y_val)\n",
    "study.optimize(func, n_trials=40)\n",
    "\n",
    "print('Number of finished trials:', len(study.trials))\n",
    "print('Best trial:', study.best_trial.params)\n",
    "print('Best score:', study.best_value)"
   ]
  },
  {
   "cell_type": "code",
   "execution_count": null,
   "metadata": {},
   "outputs": [],
   "source": [
    "clf = LogisticRegression(solver='newton-cg', C=0.023672809391721117, max_iter=200)\n",
    "clf.fit(X, y)\n",
    "preds = clf.predict_proba(df_test)[:,1]\n",
    "\n",
    "output = pd.DataFrame({'id': ids, 'target': preds})\n",
    "output.to_csv('submission.csv', index=False)"
   ]
  },
  {
   "cell_type": "code",
   "execution_count": 79,
   "metadata": {},
   "outputs": [
    {
     "name": "stderr",
     "output_type": "stream",
     "text": [
      "\u001b[32m[I 2021-11-28 18:21:40,476]\u001b[0m A new study created in memory with name: LinearSVC\u001b[0m\n",
      "\u001b[32m[I 2021-11-28 18:21:51,970]\u001b[0m Trial 0 finished with value: 0.7497149200256543 and parameters: {'C': 0.6965933474301265, 'max_iter': 9000}. Best is trial 0 with value: 0.7497149200256543.\u001b[0m\n",
      "\u001b[32m[I 2021-11-28 18:22:03,594]\u001b[0m Trial 1 finished with value: 0.7497149208590719 and parameters: {'C': 1.547469698675367, 'max_iter': 6000}. Best is trial 1 with value: 0.7497149208590719.\u001b[0m\n",
      "\u001b[32m[I 2021-11-28 18:22:16,235]\u001b[0m Trial 2 finished with value: 0.7497149194700427 and parameters: {'C': 0.8836134159726222, 'max_iter': 1000}. Best is trial 1 with value: 0.7497149208590719.\u001b[0m\n",
      "\u001b[32m[I 2021-11-28 18:22:32,521]\u001b[0m Trial 3 finished with value: 0.7497149169697902 and parameters: {'C': 0.3900984305648511, 'max_iter': 9000}. Best is trial 1 with value: 0.7497149208590719.\u001b[0m\n",
      "\u001b[32m[I 2021-11-28 18:22:48,255]\u001b[0m Trial 4 finished with value: 0.7497149194700425 and parameters: {'C': 1.8374541010699128, 'max_iter': 9000}. Best is trial 1 with value: 0.7497149208590719.\u001b[0m\n",
      "\u001b[32m[I 2021-11-28 18:23:03,226]\u001b[0m Trial 5 finished with value: 0.7497149200256543 and parameters: {'C': 1.8992594111583148, 'max_iter': 8000}. Best is trial 1 with value: 0.7497149208590719.\u001b[0m\n",
      "\u001b[32m[I 2021-11-28 18:23:18,358]\u001b[0m Trial 6 finished with value: 0.7497149205812661 and parameters: {'C': 1.447856962300075, 'max_iter': 5000}. Best is trial 1 with value: 0.7497149208590719.\u001b[0m\n",
      "\u001b[32m[I 2021-11-28 18:23:34,215]\u001b[0m Trial 7 finished with value: 0.7497149200256543 and parameters: {'C': 1.6316376028146569, 'max_iter': 7000}. Best is trial 1 with value: 0.7497149208590719.\u001b[0m\n",
      "\u001b[32m[I 2021-11-28 18:23:49,789]\u001b[0m Trial 8 finished with value: 0.7497149208590719 and parameters: {'C': 1.5402190575248818, 'max_iter': 9000}. Best is trial 1 with value: 0.7497149208590719.\u001b[0m\n",
      "\u001b[32m[I 2021-11-28 18:24:05,553]\u001b[0m Trial 9 finished with value: 0.7497149264151886 and parameters: {'C': 0.03680059416542098, 'max_iter': 6000}. Best is trial 9 with value: 0.7497149264151886.\u001b[0m\n",
      "\u001b[32m[I 2021-11-28 18:24:20,839]\u001b[0m Trial 10 finished with value: 0.749714915580761 and parameters: {'C': 0.11266994760520341, 'max_iter': 3000}. Best is trial 9 with value: 0.7497149264151886.\u001b[0m\n",
      "\u001b[32m[I 2021-11-28 18:24:36,779]\u001b[0m Trial 11 finished with value: 0.749714920581266 and parameters: {'C': 1.1422116793824248, 'max_iter': 5000}. Best is trial 9 with value: 0.7497149264151886.\u001b[0m\n",
      "\u001b[32m[I 2021-11-28 18:24:53,713]\u001b[0m Trial 12 finished with value: 0.7497149600296948 and parameters: {'C': 0.012249147757314706, 'max_iter': 6000}. Best is trial 12 with value: 0.7497149600296948.\u001b[0m\n",
      "\u001b[32m[I 2021-11-28 18:25:10,135]\u001b[0m Trial 13 finished with value: 0.749714917247596 and parameters: {'C': 0.08185725182393516, 'max_iter': 4000}. Best is trial 12 with value: 0.7497149600296948.\u001b[0m\n",
      "\u001b[32m[I 2021-11-28 18:25:26,443]\u001b[0m Trial 14 finished with value: 0.7497149175254018 and parameters: {'C': 0.4304378687721492, 'max_iter': 7000}. Best is trial 12 with value: 0.7497149600296948.\u001b[0m\n",
      "\u001b[32m[I 2021-11-28 18:25:43,035]\u001b[0m Trial 15 finished with value: 0.749714917247596 and parameters: {'C': 0.3878922941761538, 'max_iter': 3000}. Best is trial 12 with value: 0.7497149600296948.\u001b[0m\n",
      "\u001b[32m[I 2021-11-28 18:26:00,208]\u001b[0m Trial 16 finished with value: 0.7497149114136734 and parameters: {'C': 0.05969122767447917, 'max_iter': 6000}. Best is trial 12 with value: 0.7497149600296948.\u001b[0m\n",
      "\u001b[32m[I 2021-11-28 18:26:17,444]\u001b[0m Trial 17 finished with value: 0.7497149197478485 and parameters: {'C': 0.7044722465788231, 'max_iter': 7000}. Best is trial 12 with value: 0.7497149600296948.\u001b[0m\n",
      "\u001b[32m[I 2021-11-28 18:26:35,426]\u001b[0m Trial 18 finished with value: 0.7497149144695375 and parameters: {'C': 0.2898128975246978, 'max_iter': 4000}. Best is trial 12 with value: 0.7497149600296948.\u001b[0m\n",
      "\u001b[32m[I 2021-11-28 18:26:53,356]\u001b[0m Trial 19 finished with value: 0.7497149211368777 and parameters: {'C': 1.1736116472088023, 'max_iter': 1000}. Best is trial 12 with value: 0.7497149600296948.\u001b[0m\n",
      "\u001b[32m[I 2021-11-28 18:27:10,055]\u001b[0m Trial 20 finished with value: 0.7497149186366251 and parameters: {'C': 0.6177590163630956, 'max_iter': 10000}. Best is trial 12 with value: 0.7497149600296948.\u001b[0m\n",
      "\u001b[32m[I 2021-11-28 18:27:26,795]\u001b[0m Trial 21 finished with value: 0.7497149208590719 and parameters: {'C': 1.185496439462121, 'max_iter': 1000}. Best is trial 12 with value: 0.7497149600296948.\u001b[0m\n",
      "\u001b[32m[I 2021-11-28 18:27:43,551]\u001b[0m Trial 22 finished with value: 0.7497149197478485 and parameters: {'C': 0.9666190091740713, 'max_iter': 2000}. Best is trial 12 with value: 0.7497149600296948.\u001b[0m\n",
      "\u001b[32m[I 2021-11-28 18:28:03,203]\u001b[0m Trial 23 finished with value: 0.7497149205812661 and parameters: {'C': 1.3621346689446379, 'max_iter': 4000}. Best is trial 12 with value: 0.7497149600296948.\u001b[0m\n",
      "\u001b[32m[I 2021-11-28 18:28:19,007]\u001b[0m Trial 24 finished with value: 0.7497149208590719 and parameters: {'C': 1.18832952245995, 'max_iter': 6000}. Best is trial 12 with value: 0.7497149600296948.\u001b[0m\n",
      "\u001b[32m[I 2021-11-28 18:28:36,811]\u001b[0m Trial 25 finished with value: 0.7497149133583143 and parameters: {'C': 0.19708948472005894, 'max_iter': 5000}. Best is trial 12 with value: 0.7497149600296948.\u001b[0m\n",
      "\u001b[32m[I 2021-11-28 18:28:54,834]\u001b[0m Trial 26 finished with value: 0.7497149180810135 and parameters: {'C': 0.5379506440776661, 'max_iter': 3000}. Best is trial 12 with value: 0.7497149600296948.\u001b[0m\n",
      "\u001b[32m[I 2021-11-28 18:29:12,532]\u001b[0m Trial 27 finished with value: 0.7497149200256543 and parameters: {'C': 0.8460577892451493, 'max_iter': 8000}. Best is trial 12 with value: 0.7497149600296948.\u001b[0m\n",
      "\u001b[32m[I 2021-11-28 18:29:28,273]\u001b[0m Trial 28 finished with value: 0.7497149128027025 and parameters: {'C': 0.2859674848766892, 'max_iter': 2000}. Best is trial 12 with value: 0.7497149600296948.\u001b[0m\n",
      "\u001b[32m[I 2021-11-28 18:29:42,427]\u001b[0m Trial 29 finished with value: 0.7497149569738306 and parameters: {'C': 0.01333097735883924, 'max_iter': 8000}. Best is trial 12 with value: 0.7497149600296948.\u001b[0m\n",
      "\u001b[32m[I 2021-11-28 18:29:56,331]\u001b[0m Trial 30 finished with value: 0.74971495836286 and parameters: {'C': 0.013386361991219679, 'max_iter': 8000}. Best is trial 12 with value: 0.7497149600296948.\u001b[0m\n",
      "\u001b[32m[I 2021-11-28 18:30:10,576]\u001b[0m Trial 31 finished with value: 0.7497149286376353 and parameters: {'C': 0.026192396241509992, 'max_iter': 8000}. Best is trial 12 with value: 0.7497149600296948.\u001b[0m\n",
      "\u001b[32m[I 2021-11-28 18:30:25,002]\u001b[0m Trial 32 finished with value: 0.7497149147473434 and parameters: {'C': 0.2294896900174097, 'max_iter': 8000}. Best is trial 12 with value: 0.7497149600296948.\u001b[0m\n",
      "\u001b[32m[I 2021-11-28 18:30:38,891]\u001b[0m Trial 33 finished with value: 0.7497149272486061 and parameters: {'C': 0.0333364808838066, 'max_iter': 10000}. Best is trial 12 with value: 0.7497149600296948.\u001b[0m\n",
      "\u001b[32m[I 2021-11-28 18:30:52,967]\u001b[0m Trial 34 finished with value: 0.7497149136361201 and parameters: {'C': 0.16632842647051643, 'max_iter': 8000}. Best is trial 12 with value: 0.7497149600296948.\u001b[0m\n",
      "\u001b[32m[I 2021-11-28 18:31:06,646]\u001b[0m Trial 35 finished with value: 0.7497149180810134 and parameters: {'C': 0.44841863595128667, 'max_iter': 7000}. Best is trial 12 with value: 0.7497149600296948.\u001b[0m\n",
      "\u001b[32m[I 2021-11-28 18:31:20,446]\u001b[0m Trial 36 finished with value: 0.7497149133583142 and parameters: {'C': 0.28118294374865493, 'max_iter': 9000}. Best is trial 12 with value: 0.7497149600296948.\u001b[0m\n",
      "\u001b[32m[I 2021-11-28 18:31:34,292]\u001b[0m Trial 37 finished with value: 0.7497149586406656 and parameters: {'C': 0.015724266088701023, 'max_iter': 8000}. Best is trial 12 with value: 0.7497149600296948.\u001b[0m\n",
      "\u001b[32m[I 2021-11-28 18:31:48,045]\u001b[0m Trial 38 finished with value: 0.7497149153029551 and parameters: {'C': 0.15519566917935476, 'max_iter': 10000}. Best is trial 12 with value: 0.7497149600296948.\u001b[0m\n",
      "\u001b[32m[I 2021-11-28 18:32:02,012]\u001b[0m Trial 39 finished with value: 0.7497149166919842 and parameters: {'C': 0.331935711754267, 'max_iter': 7000}. Best is trial 12 with value: 0.7497149600296948.\u001b[0m\n"
     ]
    },
    {
     "name": "stdout",
     "output_type": "stream",
     "text": [
      "Number of finished trials: 40\n",
      "Best trial: {'C': 0.012249147757314706, 'max_iter': 6000}\n",
      "Best score: 0.7497149600296948\n"
     ]
    }
   ],
   "source": [
    "study = optuna.create_study(direction='maximize', study_name=\"LinearSVC\")\n",
    "func = lambda trial: objective_linearSVC(trial, X_train, y_train,  X_val, y_val)\n",
    "study.optimize(func, n_trials=40)\n",
    "\n",
    "print('Number of finished trials:', len(study.trials))\n",
    "print('Best trial:', study.best_trial.params)\n",
    "print('Best score:', study.best_value)"
   ]
  },
  {
   "cell_type": "code",
   "execution_count": 110,
   "metadata": {},
   "outputs": [
    {
     "name": "stdout",
     "output_type": "stream",
     "text": [
      "0.7490073647154942\n"
     ]
    }
   ],
   "source": [
    "model = LinearSVC(dual=False, C=0.012249147757314706, max_iter=10000)\n",
    "clf = CalibratedClassifierCV(base_estimator=model, cv=5)\n",
    "scores = evaluate_model(model, X, y)\n",
    "print(scores.mean())"
   ]
  },
  {
   "cell_type": "code",
   "execution_count": 25,
   "metadata": {},
   "outputs": [],
   "source": [
    "improvement = [\n",
    "                {'col': 'f93', 'score': 0.74937980496359},\n",
    "                {'col': 'f51', 'score': 0.74929966989194},\n",
    "                {'col': 'f87', 'score': 0.749286577319145},\n",
    "                {'col': 'f68', 'score': 0.749277139834924},\n",
    "                {'col': 'f78', 'score': 0.749276882213393},\n",
    "                {'col': 'f62', 'score': 0.749275147148718},\n",
    "                {'col': 'f89', 'score': 0.749274390959197},\n",
    "                {'col': 'f52', 'score': 0.749274337874286},\n",
    "                {'col': 'f56', 'score': 0.749272925899996},\n",
    "                {'col': 'f99', 'score': 0.749269564354892},\n",
    "                {'col': 'f94', 'score': 0.749269362702158},\n",
    "                {'col': 'f61', 'score': 0.749268842818711},\n",
    "                {'col': 'f69', 'score': 0.74926548927119},\n",
    "                {'col': 'f88', 'score': 0.749265103672684},\n",
    "                {'col': 'f58', 'score': 0.749264578471603},\n",
    "                {'col': 'f71', 'score': 0.749263915691012},\n",
    "                {'col': 'f92', 'score': 0.749263337182983},\n",
    "                {'col': 'f83', 'score': 0.749263137845553},\n",
    "                {'col': 'f73', 'score': 0.749262998472393},\n",
    "                {'col': 'f79', 'score': 0.749262939316809},\n",
    "                {'col': 'f53', 'score': 0.749262568712333},\n",
    "                {'col': 'f85', 'score': 0.749262562170475},\n",
    "                {'col': 'f74', 'score': 0.749262225483844},\n",
    "                {'col': 'f77', 'score': 0.749261144172846},\n",
    "                {'col': 'f97', 'score': 0.749260238700895},\n",
    "                {'col': 'f59', 'score': 0.749260187189176},\n",
    "                {'col': 'f70', 'score': 0.749260078084847},\n",
    "                {'col': 'f60', 'score': 0.749259985882995},\n",
    "                {'col': 'f72', 'score': 0.749259923139526},\n",
    "                {'col': 'f63', 'score': 0.749259705338838},\n",
    "                {'col': 'f84', 'score': 0.749259697064632},\n",
    "                {'col': 'f66', 'score': 0.749259548369621},\n",
    "                {'col': 'f91', 'score': 0.749259409284883},\n",
    "                {'col': 'f65', 'score': 0.749259081163499},\n",
    "                {'col': 'f48', 'score': 0.749258667148775},\n",
    "                {'col': 'f49', 'score': 0.749258585306697},\n",
    "                {'col': 'f47', 'score': 0.749258369703664},\n",
    "                {'col': 'f90', 'score': 0.749258194850275},\n",
    "                {'col': 'f54', 'score': 0.749257967613653},\n",
    "                {'col': 'f76', 'score': 0.749257919343268},\n",
    "                {'col': 'f80', 'score': 0.74925790348247},\n",
    "                {'col': 'f86', 'score': 0.749257678676559},\n",
    "                {'col': 'f64', 'score': 0.74925764556949},\n",
    "                {'col': 'f81', 'score': 0.749257545496114},\n",
    "                {'col': 'f67', 'score': 0.749257539881676},\n",
    "                {'col': 'f55', 'score': 0.749257196943374},\n",
    "                {'col': 'f50', 'score': 0.749256959290237},\n",
    "                {'col': 'f98', 'score': 0.749256646449602},\n",
    "                {'col': 'f95', 'score': 0.749256167263361},\n",
    "                {'col': 'f82', 'score': 0.749255080858109},\n",
    "                {'col': 'f75', 'score': 0.749254809977639},\n",
    "                {'col': 'f96', 'score': 0.749254111891067},\n",
    "                {'col': 'f57', 'score': 0.749253100324584},\n",
    "                {'col': 'f20', 'score': 0.749065261635948},\n",
    "                {'col': 'f9', 'score': 0.749024452041971},\n",
    "                {'col': 'f16', 'score': 0.749022277167482},\n",
    "                {'col': 'f44', 'score': 0.749019719653472},\n",
    "                {'col': 'f24', 'score': 0.749017390532322},\n",
    "              ]\n"
   ]
  },
  {
   "cell_type": "code",
   "execution_count": 26,
   "metadata": {
    "scrolled": false
   },
   "outputs": [],
   "source": [
    "# baseline_score = 0.7490073647154942\n",
    "# improved_cols = []\n",
    "# for col in X.columns:\n",
    "#         print(col)\n",
    "#         model = LinearSVC(dual=False, C=0.012249147757314706, max_iter=10000)\n",
    "#         clf = CalibratedClassifierCV(base_estimator=model, cv=5)\n",
    "\n",
    "#         X_new = copy.deepcopy(X_train)\n",
    "#         new_col = col + '_bin'\n",
    "#         X_new[new_col], bins = pd.qcut(X_train[col], q=1000, retbins=True, labels=False)\n",
    "\n",
    "#         scores = evaluate_model(model, X_new, y_train)\n",
    "#         new_score = scores.mean()\n",
    "#         if new_score >= baseline_score + 0.00001:\n",
    "#             new_col = {'col': col, 'score': new_score}\n",
    "#             improved_cols.append(new_col)\n",
    "# print(improved_cols)"
   ]
  },
  {
   "cell_type": "code",
   "execution_count": null,
   "metadata": {},
   "outputs": [],
   "source": [
    "# df_test_new = copy.deepcopy(df_test)\n",
    "# X_new.drop(['f1'], axis=1, inplace=True)\n",
    "# df_test_new['f2_bin'] = pd.cut(df_test_new['f2'], bins=bins, labels=False, include_lowest=True)"
   ]
  },
  {
   "cell_type": "code",
   "execution_count": 42,
   "metadata": {},
   "outputs": [],
   "source": [
    "model = LinearSVC(dual=False, C=0.012249147757314706, max_iter=10000)\n",
    "clf = CalibratedClassifierCV(base_estimator=model, cv=5)\n",
    "\n",
    "\n",
    "X_new = copy.deepcopy(X_train)\n",
    "df_test_new = copy.deepcopy(df_test)\n",
    "\n",
    "col = 'f51'\n",
    "new_col = col + '_bin'\n",
    "X_new[new_col], bins = pd.qcut(X_new[col], q=1000, retbins=True, labels=False)\n",
    "df_test_new[new_col] = pd.cut(df_test_new[col], bins=bins, labels=False, include_lowest=True)\n",
    "df_test_new[new_col].fillna(df_test_new[new_col].mode()[0], inplace=True)\n",
    "\n",
    "col = 'f52'\n",
    "new_col = col + '_bin'\n",
    "X_new[new_col], bins = pd.qcut(X_new[col], q=1000, retbins=True, labels=False)\n",
    "df_test_new[new_col] = pd.cut(df_test_new[col], bins=bins, labels=False, include_lowest=True)\n",
    "df_test_new[new_col].fillna(df_test_new[new_col].mode()[0], inplace=True)\n",
    "\n",
    "clf.fit(X_new, y_train)\n",
    "\n",
    "preds = clf.predict_proba(df_test_new)[:,1]\n",
    "\n",
    "output = pd.DataFrame({'id': ids, 'target': preds})\n",
    "output.to_csv('submission.csv', index=False)"
   ]
  },
  {
   "cell_type": "code",
   "execution_count": null,
   "metadata": {},
   "outputs": [],
   "source": [
    "def make_prediction_stack(models_in, stack_model_in, X_in, y_in, features, df_test_in, ids_in):\n",
    "    \"\"\"Generate predictions for a single model\"\"\"\n",
    "    \n",
    "    X_in = X_in[features]\n",
    "    df_test_in = df_test_in[features]\n",
    "    \n",
    "    meta_test_in = []\n",
    "    for model in models_in:\n",
    "        # Fit model\n",
    "\n",
    "        # Create hold out predictions for a classifier\n",
    "        if model.__class__.__name__ == 'LinearSVC':\n",
    "            clf = CalibratedClassifierCV(base_estimator=model, cv=n_splits)\n",
    "        else:\n",
    "            clf = model\n",
    "        \n",
    "        clf.fit(X_in, y_in)\n",
    "        meta_test_model = clf.predict_proba(df_test_in)\n",
    "    \n",
    "        # Remove redundant column - 0th column = 1-first column in a two class dataset \n",
    "        meta_test_model = np.delete(meta_test_model, 0, axis=1).ravel()\n",
    "    \n",
    "        # Gather meta training data\n",
    "        meta_test_in.append(meta_test_model)\n",
    "    \n",
    "        meta_test_in = np.array(meta_test_in).T \n",
    "        df_meta_test_in = pd.DataFrame(meta_test_in)\n",
    "\n",
    "    # Optional (Add original features to meta)\n",
    "    df_meta_test_in = pd.DataFrame(np.concatenate((df_meta_test_in, df_test_in), axis=1))\n",
    "    \n",
    "    stack_model_in.fit(pd.DataFrame(df_meta_train), y_train_norm)\n",
    "\n",
    "    # Final output\n",
    "    preds = stack_model.predict_proba(df_meta_test)[:,1]\n",
    "    output = pd.DataFrame({'id': ids, 'target': preds})\n",
    "    output.to_csv('submission.csv', index=False)\n",
    "    \n",
    "    preds = clf.predict_proba(df_test_in)[:,1]\n",
    "    df_preds = pd.DataFrame({'id': ids_in, 'target': preds})\n",
    "    return df_preds"
   ]
  },
  {
   "cell_type": "markdown",
   "metadata": {},
   "source": [
    "<a id=\"optimize-models\"></a>\n",
    "## Optimize models\n",
    "[Go back to top](#0)"
   ]
  },
  {
   "cell_type": "code",
   "execution_count": 248,
   "metadata": {},
   "outputs": [],
   "source": [
    "def objective_lightgbm(trial):\n",
    "    \"\"\"Optimize logistic regression model using optuna\"\"\"\n",
    "    \n",
    "    num_leaves = trial.suggest_int(\"num_leaves\", 11, 101, step=10)\n",
    "    max_depth = trial.suggest_int(\"max_depth\", 2, 10, step=1)\n",
    "    learning_rate = trial.suggest_float(\"learning_rate\", 0.01, 2.0)\n",
    "    \n",
    "    model = LGBMClassifier(num_leaves=num_leaves\n",
    "                           , max_depth=max_depth\n",
    "                           , learning_rate=learning_rate\n",
    "                           , objective='binary'\n",
    "                           , random_state=5)\n",
    "    model.fit(X_train_norm, y_train_norm)\n",
    "    preds = model.predict_proba(X_val_norm)[:,1]\n",
    "    score = roc_auc_score(y_val_norm, preds)\n",
    "    \n",
    "    return score"
   ]
  },
  {
   "cell_type": "code",
   "execution_count": 249,
   "metadata": {
    "scrolled": true
   },
   "outputs": [
    {
     "name": "stderr",
     "output_type": "stream",
     "text": [
      "\u001b[32m[I 2021-11-15 22:45:21,858]\u001b[0m A new study created in memory with name: LightGBM\u001b[0m\n",
      "\u001b[32m[I 2021-11-15 22:45:33,351]\u001b[0m Trial 0 finished with value: 0.729726569958354 and parameters: {'num_leaves': 81, 'max_depth': 5, 'learning_rate': 0.4139371668653664}. Best is trial 0 with value: 0.729726569958354.\u001b[0m\n",
      "\u001b[32m[I 2021-11-15 22:45:50,222]\u001b[0m Trial 1 finished with value: 0.7350786127919944 and parameters: {'num_leaves': 31, 'max_depth': 9, 'learning_rate': 0.23455617314768773}. Best is trial 1 with value: 0.7350786127919944.\u001b[0m\n",
      "\u001b[32m[I 2021-11-15 22:45:58,082]\u001b[0m Trial 2 finished with value: 0.7241467739241488 and parameters: {'num_leaves': 101, 'max_depth': 2, 'learning_rate': 1.145256335798105}. Best is trial 1 with value: 0.7350786127919944.\u001b[0m\n",
      "\u001b[32m[I 2021-11-15 22:46:05,701]\u001b[0m Trial 3 finished with value: 0.7307384510239672 and parameters: {'num_leaves': 61, 'max_depth': 2, 'learning_rate': 0.5457435485692936}. Best is trial 1 with value: 0.7350786127919944.\u001b[0m\n",
      "\u001b[32m[I 2021-11-15 22:46:20,366]\u001b[0m Trial 4 finished with value: 0.651507903528062 and parameters: {'num_leaves': 31, 'max_depth': 7, 'learning_rate': 1.8733064134781878}. Best is trial 1 with value: 0.7350786127919944.\u001b[0m\n",
      "\u001b[32m[I 2021-11-15 22:46:28,783]\u001b[0m Trial 5 finished with value: 0.7229611065666455 and parameters: {'num_leaves': 21, 'max_depth': 3, 'learning_rate': 1.116907323119684}. Best is trial 1 with value: 0.7350786127919944.\u001b[0m\n",
      "\u001b[32m[I 2021-11-15 22:46:38,502]\u001b[0m Trial 6 finished with value: 0.711177057930091 and parameters: {'num_leaves': 71, 'max_depth': 4, 'learning_rate': 1.2086546013819819}. Best is trial 1 with value: 0.7350786127919944.\u001b[0m\n",
      "\u001b[32m[I 2021-11-15 22:46:57,037]\u001b[0m Trial 7 finished with value: 0.7323456143899234 and parameters: {'num_leaves': 81, 'max_depth': 7, 'learning_rate': 0.17828767619482358}. Best is trial 1 with value: 0.7350786127919944.\u001b[0m\n",
      "\u001b[32m[I 2021-11-15 22:47:07,102]\u001b[0m Trial 8 finished with value: 0.723460319501907 and parameters: {'num_leaves': 91, 'max_depth': 4, 'learning_rate': 0.6717424777040208}. Best is trial 1 with value: 0.7350786127919944.\u001b[0m\n",
      "\u001b[32m[I 2021-11-15 22:47:21,556]\u001b[0m Trial 9 finished with value: 0.7180658602860154 and parameters: {'num_leaves': 11, 'max_depth': 7, 'learning_rate': 0.08228763941127352}. Best is trial 1 with value: 0.7350786127919944.\u001b[0m\n",
      "\u001b[32m[I 2021-11-15 22:47:38,368]\u001b[0m Trial 10 finished with value: 0.6594304436892962 and parameters: {'num_leaves': 41, 'max_depth': 10, 'learning_rate': 1.6403661982451097}. Best is trial 1 with value: 0.7350786127919944.\u001b[0m\n",
      "\u001b[32m[I 2021-11-15 22:47:59,355]\u001b[0m Trial 11 finished with value: 0.7301013324096601 and parameters: {'num_leaves': 51, 'max_depth': 9, 'learning_rate': 0.08955345172335916}. Best is trial 1 with value: 0.7350786127919944.\u001b[0m\n",
      "\u001b[32m[I 2021-11-15 22:48:15,027]\u001b[0m Trial 12 finished with value: 0.72677606622879 and parameters: {'num_leaves': 61, 'max_depth': 8, 'learning_rate': 0.3316801049998142}. Best is trial 1 with value: 0.7350786127919944.\u001b[0m\n",
      "\u001b[32m[I 2021-11-15 22:48:27,656]\u001b[0m Trial 13 finished with value: 0.7030744993544169 and parameters: {'num_leaves': 41, 'max_depth': 10, 'learning_rate': 0.7734330335988168}. Best is trial 1 with value: 0.7350786127919944.\u001b[0m\n",
      "\u001b[32m[I 2021-11-15 22:48:48,730]\u001b[0m Trial 14 finished with value: 0.716931101977208 and parameters: {'num_leaves': 71, 'max_depth': 6, 'learning_rate': 0.048654353723161514}. Best is trial 1 with value: 0.7350786127919944.\u001b[0m\n",
      "\u001b[32m[I 2021-11-15 22:48:59,293]\u001b[0m Trial 15 finished with value: 0.7231263888018612 and parameters: {'num_leaves': 11, 'max_depth': 8, 'learning_rate': 0.8534467539999204}. Best is trial 1 with value: 0.7350786127919944.\u001b[0m\n",
      "\u001b[32m[I 2021-11-15 22:49:17,274]\u001b[0m Trial 16 finished with value: 0.7247621952619762 and parameters: {'num_leaves': 101, 'max_depth': 8, 'learning_rate': 0.31144158008539324}. Best is trial 1 with value: 0.7350786127919944.\u001b[0m\n",
      "\u001b[32m[I 2021-11-15 22:49:32,946]\u001b[0m Trial 17 finished with value: 0.7325448281196394 and parameters: {'num_leaves': 31, 'max_depth': 6, 'learning_rate': 0.2690904557593553}. Best is trial 1 with value: 0.7350786127919944.\u001b[0m\n",
      "\u001b[32m[I 2021-11-15 22:49:45,032]\u001b[0m Trial 18 finished with value: 0.6795966671519822 and parameters: {'num_leaves': 31, 'max_depth': 6, 'learning_rate': 1.4101715398271395}. Best is trial 1 with value: 0.7350786127919944.\u001b[0m\n",
      "\u001b[32m[I 2021-11-15 22:49:55,474]\u001b[0m Trial 19 finished with value: 0.7236335126684172 and parameters: {'num_leaves': 31, 'max_depth': 5, 'learning_rate': 0.5447672360163431}. Best is trial 1 with value: 0.7350786127919944.\u001b[0m\n",
      "\u001b[32m[I 2021-11-15 22:50:05,992]\u001b[0m Trial 20 finished with value: 0.7143785389831109 and parameters: {'num_leaves': 21, 'max_depth': 9, 'learning_rate': 0.8477634906148083}. Best is trial 1 with value: 0.7350786127919944.\u001b[0m\n",
      "\u001b[32m[I 2021-11-15 22:50:21,023]\u001b[0m Trial 21 finished with value: 0.7334689899698384 and parameters: {'num_leaves': 51, 'max_depth': 7, 'learning_rate': 0.22578556021566012}. Best is trial 1 with value: 0.7350786127919944.\u001b[0m\n",
      "\u001b[32m[I 2021-11-15 22:50:40,677]\u001b[0m Trial 22 finished with value: 0.7326354951820816 and parameters: {'num_leaves': 51, 'max_depth': 9, 'learning_rate': 0.2697161168411229}. Best is trial 1 with value: 0.7350786127919944.\u001b[0m\n",
      "\u001b[32m[I 2021-11-15 22:50:55,671]\u001b[0m Trial 23 finished with value: 0.7186900934945314 and parameters: {'num_leaves': 51, 'max_depth': 9, 'learning_rate': 0.4701075272146816}. Best is trial 1 with value: 0.7350786127919944.\u001b[0m\n",
      "\u001b[32m[I 2021-11-15 22:51:08,848]\u001b[0m Trial 24 finished with value: 0.7128698180393762 and parameters: {'num_leaves': 41, 'max_depth': 10, 'learning_rate': 0.6364263845823717}. Best is trial 1 with value: 0.7350786127919944.\u001b[0m\n",
      "\u001b[32m[I 2021-11-15 22:51:27,578]\u001b[0m Trial 25 finished with value: 0.7344108477921403 and parameters: {'num_leaves': 51, 'max_depth': 9, 'learning_rate': 0.2282060570196645}. Best is trial 1 with value: 0.7350786127919944.\u001b[0m\n",
      "\u001b[32m[I 2021-11-15 22:51:52,325]\u001b[0m Trial 26 finished with value: 0.7006099069942205 and parameters: {'num_leaves': 61, 'max_depth': 7, 'learning_rate': 0.022925785733345777}. Best is trial 1 with value: 0.7350786127919944.\u001b[0m\n",
      "\u001b[32m[I 2021-11-15 22:52:13,204]\u001b[0m Trial 27 finished with value: 0.7350020173861028 and parameters: {'num_leaves': 41, 'max_depth': 8, 'learning_rate': 0.20143781181807865}. Best is trial 1 with value: 0.7350786127919944.\u001b[0m\n",
      "\u001b[32m[I 2021-11-15 22:52:25,013]\u001b[0m Trial 28 finished with value: 0.7080544500511072 and parameters: {'num_leaves': 21, 'max_depth': 8, 'learning_rate': 0.9616798146070997}. Best is trial 1 with value: 0.7350786127919944.\u001b[0m\n",
      "\u001b[32m[I 2021-11-15 22:52:40,295]\u001b[0m Trial 29 finished with value: 0.725700904658082 and parameters: {'num_leaves': 41, 'max_depth': 9, 'learning_rate': 0.4279036254865061}. Best is trial 1 with value: 0.7350786127919944.\u001b[0m\n",
      "\u001b[32m[I 2021-11-15 22:52:57,329]\u001b[0m Trial 30 finished with value: 0.7201799855550162 and parameters: {'num_leaves': 71, 'max_depth': 8, 'learning_rate': 0.4113154410771154}. Best is trial 1 with value: 0.7350786127919944.\u001b[0m\n",
      "\u001b[32m[I 2021-11-15 22:53:18,398]\u001b[0m Trial 31 finished with value: 0.735336246732417 and parameters: {'num_leaves': 51, 'max_depth': 10, 'learning_rate': 0.19045551737738176}. Best is trial 31 with value: 0.735336246732417.\u001b[0m\n",
      "\u001b[32m[I 2021-11-15 22:53:36,138]\u001b[0m Trial 32 finished with value: 0.735608734921519 and parameters: {'num_leaves': 41, 'max_depth': 10, 'learning_rate': 0.16009554199052495}. Best is trial 32 with value: 0.735608734921519.\u001b[0m\n",
      "\u001b[32m[I 2021-11-15 22:53:53,444]\u001b[0m Trial 33 finished with value: 0.7355741772421915 and parameters: {'num_leaves': 41, 'max_depth': 10, 'learning_rate': 0.19012540605966122}. Best is trial 32 with value: 0.735608734921519.\u001b[0m\n",
      "\u001b[32m[I 2021-11-15 22:54:06,643]\u001b[0m Trial 34 finished with value: 0.7194129819280983 and parameters: {'num_leaves': 31, 'max_depth': 10, 'learning_rate': 0.5656840916855166}. Best is trial 32 with value: 0.735608734921519.\u001b[0m\n",
      "\u001b[32m[I 2021-11-15 22:54:19,522]\u001b[0m Trial 35 finished with value: 0.7315230161627145 and parameters: {'num_leaves': 21, 'max_depth': 10, 'learning_rate': 0.40842752272958827}. Best is trial 32 with value: 0.735608734921519.\u001b[0m\n"
     ]
    },
    {
     "name": "stderr",
     "output_type": "stream",
     "text": [
      "\u001b[32m[I 2021-11-15 22:54:41,697]\u001b[0m Trial 36 finished with value: 0.733680391801035 and parameters: {'num_leaves': 41, 'max_depth': 10, 'learning_rate': 0.13298928601825408}. Best is trial 32 with value: 0.735608734921519.\u001b[0m\n",
      "\u001b[32m[I 2021-11-15 22:55:00,029]\u001b[0m Trial 37 finished with value: 0.7268634823529679 and parameters: {'num_leaves': 61, 'max_depth': 10, 'learning_rate': 0.3423141619908766}. Best is trial 32 with value: 0.735608734921519.\u001b[0m\n",
      "\u001b[32m[I 2021-11-15 22:55:20,553]\u001b[0m Trial 38 finished with value: 0.6994875015285098 and parameters: {'num_leaves': 31, 'max_depth': 9, 'learning_rate': 0.026611370494423248}. Best is trial 32 with value: 0.735608734921519.\u001b[0m\n",
      "\u001b[32m[I 2021-11-15 22:55:37,097]\u001b[0m Trial 39 finished with value: 0.7256643000711207 and parameters: {'num_leaves': 21, 'max_depth': 10, 'learning_rate': 0.5245903234797886}. Best is trial 32 with value: 0.735608734921519.\u001b[0m\n"
     ]
    },
    {
     "name": "stdout",
     "output_type": "stream",
     "text": [
      "Number of finished trials: 40\n",
      "Best trial: {'num_leaves': 41, 'max_depth': 10, 'learning_rate': 0.16009554199052495}\n",
      "Best score: 0.735608734921519\n",
      "Wall time: 10min 15s\n"
     ]
    }
   ],
   "source": [
    "%%time \n",
    "\n",
    "study = optuna.create_study(direction='maximize', study_name=\"LightGBM\")\n",
    "func = lambda trial: objective_lightgbm(trial)\n",
    "study.optimize(func, n_trials=40)\n",
    "\n",
    "print('Number of finished trials:', len(study.trials))\n",
    "print('Best trial:', study.best_trial.params)\n",
    "print('Best score:', study.best_value)"
   ]
  },
  {
   "cell_type": "code",
   "execution_count": 250,
   "metadata": {},
   "outputs": [
    {
     "data": {
      "text/html": [
       "<div>\n",
       "<style scoped>\n",
       "    .dataframe tbody tr th:only-of-type {\n",
       "        vertical-align: middle;\n",
       "    }\n",
       "\n",
       "    .dataframe tbody tr th {\n",
       "        vertical-align: top;\n",
       "    }\n",
       "\n",
       "    .dataframe thead th {\n",
       "        text-align: right;\n",
       "    }\n",
       "</style>\n",
       "<table border=\"1\" class=\"dataframe\">\n",
       "  <thead>\n",
       "    <tr style=\"text-align: right;\">\n",
       "      <th></th>\n",
       "      <th>model</th>\n",
       "      <th>params</th>\n",
       "    </tr>\n",
       "  </thead>\n",
       "  <tbody>\n",
       "    <tr>\n",
       "      <th>0</th>\n",
       "      <td>RandomForestClassifier</td>\n",
       "      <td>{'n_estimators': 200, 'max_features': 'log2', ...</td>\n",
       "    </tr>\n",
       "    <tr>\n",
       "      <th>0</th>\n",
       "      <td>LogisticRegression</td>\n",
       "      <td>{'solver': 'sag', 'C': 1.6213309780417264, 'ma...</td>\n",
       "    </tr>\n",
       "    <tr>\n",
       "      <th>0</th>\n",
       "      <td>LGBMClassifier</td>\n",
       "      <td>{'num_leaves': 41, 'max_depth': 10, 'learning_...</td>\n",
       "    </tr>\n",
       "  </tbody>\n",
       "</table>\n",
       "</div>"
      ],
      "text/plain": [
       "                    model                                             params\n",
       "0  RandomForestClassifier  {'n_estimators': 200, 'max_features': 'log2', ...\n",
       "0      LogisticRegression  {'solver': 'sag', 'C': 1.6213309780417264, 'ma...\n",
       "0          LGBMClassifier  {'num_leaves': 41, 'max_depth': 10, 'learning_..."
      ]
     },
     "execution_count": 250,
     "metadata": {},
     "output_type": "execute_result"
    }
   ],
   "source": [
    "df_new = pd.DataFrame([['LGBMClassifier', study.best_trial.params]])\n",
    "df_new.columns = ['model', 'params']\n",
    "df_model_params_optimized = pd.concat([df_model_params_optimized, df_new], axis=0)\n",
    "df_model_params_optimized"
   ]
  },
  {
   "cell_type": "markdown",
   "metadata": {},
   "source": [
    "<a id=\"stacking-manual\"></a>\n",
    "## Stacking - Manual\n",
    "[Go back to top](#0)"
   ]
  },
  {
   "cell_type": "code",
   "execution_count": 340,
   "metadata": {
    "execution": {
     "iopub.execute_input": "2021-11-12T19:01:37.453276Z",
     "iopub.status.busy": "2021-11-12T19:01:37.452991Z",
     "iopub.status.idle": "2021-11-12T19:01:37.469443Z",
     "shell.execute_reply": "2021-11-12T19:01:37.468575Z",
     "shell.execute_reply.started": "2021-11-12T19:01:37.453247Z"
    }
   },
   "outputs": [],
   "source": [
    "# Create hold out predictions (meta-features)\n",
    "def generate_meta_features(model, X_in, y_in, cv):\n",
    "    \"\"\"Generate meta features for base classifier model, to be used later for stacking\n",
    "\n",
    "    Keyword arguments:\n",
    "    model -- model to evaluate\n",
    "    X_in -- dataframe with features minus target\n",
    "    y_in -- target series\n",
    "    cv -- cross-validation iterator \n",
    "    \"\"\"\n",
    "    \n",
    "    \"\"\"Performing cross validation hold out predictions for stacking\"\"\"\n",
    "    # Initilize\n",
    "    n_classes = len(np.unique(y_in)) # Assuming that training data contains all classes\n",
    "    meta_features = np.zeros((X_in.shape[0], n_classes)) \n",
    "    n_splits = cv.get_n_splits(X_in, y_in)\n",
    "    \n",
    "    # Loop over folds\n",
    "    print(\"Starting hold out prediction with {} splits for {}.\".format(n_splits, model.__class__.__name__))\n",
    "    for train_idx, hold_out_idx in cv.split(X_in, y_in): \n",
    "        \n",
    "        # Split data\n",
    "        X_in_train = X_in.iloc[train_idx]    \n",
    "        y_in_train = y_in.iloc[train_idx]\n",
    "        X_in_hold_out = X_in.iloc[hold_out_idx]\n",
    "\n",
    "        # Fit estimator to K-1 parts and predict on hold out part\n",
    "        est = copy.deepcopy(model)\n",
    "        est.fit(X_in_train, y_in_train)\n",
    "        y_in_hold_out_pred = est.predict_proba(X_in_hold_out)\n",
    "        \n",
    "        # Fill in meta features\n",
    "        meta_features[hold_out_idx] = y_in_hold_out_pred\n",
    "\n",
    "    return meta_features"
   ]
  },
  {
   "cell_type": "code",
   "execution_count": 343,
   "metadata": {
    "execution": {
     "iopub.execute_input": "2021-11-12T19:01:48.037984Z",
     "iopub.status.busy": "2021-11-12T19:01:48.037269Z",
     "iopub.status.idle": "2021-11-12T19:02:03.314502Z",
     "shell.execute_reply": "2021-11-12T19:02:03.313662Z",
     "shell.execute_reply.started": "2021-11-12T19:01:48.037922Z"
    }
   },
   "outputs": [
    {
     "name": "stdout",
     "output_type": "stream",
     "text": [
      "Wall time: 0 ns\n"
     ]
    }
   ],
   "source": [
    "%%time\n",
    "\n",
    "# # Predict on stacking classifier\n",
    "\n",
    "# # Set seed\n",
    "# if 'random_state' in stack_model.get_params().keys():\n",
    "#     stack_model.set_params(random_state=5)\n",
    "\n",
    "\n",
    "# scores = cross_val_score(estimator=stack_model, X=df_meta_train, y=y_train_norm, cv=n_splits, scoring='roc_auc')\n",
    "# score = scores.mean()\n",
    "# print('%.2f' % (score*100))"
   ]
  },
  {
   "cell_type": "markdown",
   "metadata": {},
   "source": [
    "<a id=\"final\"></a>\n",
    "## Final submission\n",
    "[Go back to top](#0)"
   ]
  },
  {
   "cell_type": "code",
   "execution_count": 353,
   "metadata": {},
   "outputs": [],
   "source": [
    "model = LinearSVC(C=0.18747740329972518, max_iter=9000, dual=False, random_state=5)\n",
    "output = make_prediction_model(model, X_train_norm, y_train_norm, original_features, df_test_norm, ids)\n",
    "output.to_csv('submission.csv', index=False)"
   ]
  },
  {
   "cell_type": "code",
   "execution_count": 344,
   "metadata": {
    "execution": {
     "iopub.execute_input": "2021-11-12T19:02:03.316989Z",
     "iopub.status.busy": "2021-11-12T19:02:03.316388Z",
     "iopub.status.idle": "2021-11-12T19:02:07.901722Z",
     "shell.execute_reply": "2021-11-12T19:02:07.900801Z",
     "shell.execute_reply.started": "2021-11-12T19:02:03.316943Z"
    }
   },
   "outputs": [
    {
     "name": "stdout",
     "output_type": "stream",
     "text": [
      "Wall time: 34.5 s\n"
     ]
    }
   ],
   "source": [
    "%%time\n",
    "\n",
    "X_train_norm = X_train_norm[original_features]\n",
    "meta_test = []\n",
    "for model in base_models:\n",
    "    # Fit model\n",
    "    \n",
    "    # Create hold out predictions for a classifier\n",
    "    if model.__class__.__name__ == 'LinearSVC':\n",
    "        clf = CalibratedClassifierCV(base_estimator=model, cv=n_splits)\n",
    "    else:\n",
    "        clf = model\n",
    "        \n",
    "    clf.fit(X_train_norm, y_train_norm)\n",
    "    meta_test_model = clf.predict_proba(df_test_norm)\n",
    "    \n",
    "    # Remove redundant column - 0th column = 1-first column in a two class dataset \n",
    "    meta_test_model = np.delete(meta_test_model, 0, axis=1).ravel()\n",
    "    \n",
    "    # Gather meta training data\n",
    "    meta_test.append(meta_test_model)\n",
    "    \n",
    "meta_test = np.array(meta_test).T \n",
    "df_meta_test = pd.DataFrame(meta_test)\n",
    "\n",
    "# Optional (Add original features to meta)\n",
    "df_meta_test = pd.DataFrame(np.concatenate((df_meta_test, df_test_norm), axis=1))"
   ]
  },
  {
   "cell_type": "code",
   "execution_count": 346,
   "metadata": {
    "execution": {
     "iopub.execute_input": "2021-11-12T19:02:03.316989Z",
     "iopub.status.busy": "2021-11-12T19:02:03.316388Z",
     "iopub.status.idle": "2021-11-12T19:02:07.901722Z",
     "shell.execute_reply": "2021-11-12T19:02:07.900801Z",
     "shell.execute_reply.started": "2021-11-12T19:02:03.316943Z"
    }
   },
   "outputs": [],
   "source": [
    "stack_model.fit(pd.DataFrame(df_meta_train), y_train_norm)\n",
    "\n",
    "# Final output\n",
    "preds = stack_model.predict_proba(df_meta_test)[:,1]\n",
    "output = pd.DataFrame({'id': ids, 'target': preds})\n",
    "output.to_csv('submission.csv', index=False)"
   ]
  },
  {
   "cell_type": "code",
   "execution_count": null,
   "metadata": {},
   "outputs": [],
   "source": []
  }
 ],
 "metadata": {
  "kernelspec": {
   "display_name": "Python 3 (ipykernel)",
   "language": "python",
   "name": "python3"
  },
  "language_info": {
   "codemirror_mode": {
    "name": "ipython",
    "version": 3
   },
   "file_extension": ".py",
   "mimetype": "text/x-python",
   "name": "python",
   "nbconvert_exporter": "python",
   "pygments_lexer": "ipython3",
   "version": "3.9.7"
  }
 },
 "nbformat": 4,
 "nbformat_minor": 4
}
